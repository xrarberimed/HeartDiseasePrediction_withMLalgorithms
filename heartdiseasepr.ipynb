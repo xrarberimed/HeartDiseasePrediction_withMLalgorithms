{
  "cells": [
    {
      "cell_type": "code",
      "execution_count": null,
      "id": "2969245d",
      "metadata": {
        "id": "2969245d"
      },
      "outputs": [],
      "source": [
        "import pandas as pd\n",
        "import numpy as np\n",
        "import matplotlib.pyplot as plt\n",
        "import seaborn as sns\n",
        "from sklearn.preprocessing import StandardScaler\n",
        "from sklearn.metrics import accuracy_score\n",
        "from sklearn.metrics import confusion_matrix\n",
        "from sklearn.metrics import f1_score\n",
        "from sklearn.model_selection import train_test_split\n",
        "import warnings\n",
        "warnings.filterwarnings('ignore')\n",
        "import sklearn.neighbors\n",
        "from sklearn.neighbors import KNeighborsClassifier\n",
        "from sklearn.linear_model import LogisticRegression\n",
        "from sklearn.svm import SVC\n",
        "from sklearn.metrics import accuracy_score,classification_report\n",
        "from sklearn.model_selection import GridSearchCV,RandomizedSearchCV\n",
        "from sklearn.naive_bayes import GaussianNB\n",
        "from sklearn import metrics"
      ]
    },
    {
      "cell_type": "code",
      "execution_count": null,
      "id": "919d950b",
      "metadata": {
        "id": "919d950b"
      },
      "outputs": [],
      "source": [
        "df = pd.read_csv('./heart_cleveland_upload.csv')"
      ]
    },
    {
      "cell_type": "code",
      "execution_count": null,
      "id": "12b0434e",
      "metadata": {
        "scrolled": false,
        "colab": {
          "base_uri": "https://localhost:8080/",
          "height": 206
        },
        "id": "12b0434e",
        "outputId": "70006fd2-0190-41f8-9c8d-114b5a0a2c48"
      },
      "outputs": [
        {
          "output_type": "execute_result",
          "data": {
            "text/plain": [
              "   age  sex  cp  trestbps  chol  fbs  restecg  thalach  exang  oldpeak  slope  \\\n",
              "0   69    1   0       160   234    1        2      131      0      0.1      1   \n",
              "1   69    0   0       140   239    0        0      151      0      1.8      0   \n",
              "2   66    0   0       150   226    0        0      114      0      2.6      2   \n",
              "3   65    1   0       138   282    1        2      174      0      1.4      1   \n",
              "4   64    1   0       110   211    0        2      144      1      1.8      1   \n",
              "\n",
              "   ca  thal  condition  \n",
              "0   1     0          0  \n",
              "1   2     0          0  \n",
              "2   0     0          0  \n",
              "3   1     0          1  \n",
              "4   0     0          0  "
            ],
            "text/html": [
              "\n",
              "  <div id=\"df-57bae775-e1d2-4092-8c71-963f641f66b2\">\n",
              "    <div class=\"colab-df-container\">\n",
              "      <div>\n",
              "<style scoped>\n",
              "    .dataframe tbody tr th:only-of-type {\n",
              "        vertical-align: middle;\n",
              "    }\n",
              "\n",
              "    .dataframe tbody tr th {\n",
              "        vertical-align: top;\n",
              "    }\n",
              "\n",
              "    .dataframe thead th {\n",
              "        text-align: right;\n",
              "    }\n",
              "</style>\n",
              "<table border=\"1\" class=\"dataframe\">\n",
              "  <thead>\n",
              "    <tr style=\"text-align: right;\">\n",
              "      <th></th>\n",
              "      <th>age</th>\n",
              "      <th>sex</th>\n",
              "      <th>cp</th>\n",
              "      <th>trestbps</th>\n",
              "      <th>chol</th>\n",
              "      <th>fbs</th>\n",
              "      <th>restecg</th>\n",
              "      <th>thalach</th>\n",
              "      <th>exang</th>\n",
              "      <th>oldpeak</th>\n",
              "      <th>slope</th>\n",
              "      <th>ca</th>\n",
              "      <th>thal</th>\n",
              "      <th>condition</th>\n",
              "    </tr>\n",
              "  </thead>\n",
              "  <tbody>\n",
              "    <tr>\n",
              "      <th>0</th>\n",
              "      <td>69</td>\n",
              "      <td>1</td>\n",
              "      <td>0</td>\n",
              "      <td>160</td>\n",
              "      <td>234</td>\n",
              "      <td>1</td>\n",
              "      <td>2</td>\n",
              "      <td>131</td>\n",
              "      <td>0</td>\n",
              "      <td>0.1</td>\n",
              "      <td>1</td>\n",
              "      <td>1</td>\n",
              "      <td>0</td>\n",
              "      <td>0</td>\n",
              "    </tr>\n",
              "    <tr>\n",
              "      <th>1</th>\n",
              "      <td>69</td>\n",
              "      <td>0</td>\n",
              "      <td>0</td>\n",
              "      <td>140</td>\n",
              "      <td>239</td>\n",
              "      <td>0</td>\n",
              "      <td>0</td>\n",
              "      <td>151</td>\n",
              "      <td>0</td>\n",
              "      <td>1.8</td>\n",
              "      <td>0</td>\n",
              "      <td>2</td>\n",
              "      <td>0</td>\n",
              "      <td>0</td>\n",
              "    </tr>\n",
              "    <tr>\n",
              "      <th>2</th>\n",
              "      <td>66</td>\n",
              "      <td>0</td>\n",
              "      <td>0</td>\n",
              "      <td>150</td>\n",
              "      <td>226</td>\n",
              "      <td>0</td>\n",
              "      <td>0</td>\n",
              "      <td>114</td>\n",
              "      <td>0</td>\n",
              "      <td>2.6</td>\n",
              "      <td>2</td>\n",
              "      <td>0</td>\n",
              "      <td>0</td>\n",
              "      <td>0</td>\n",
              "    </tr>\n",
              "    <tr>\n",
              "      <th>3</th>\n",
              "      <td>65</td>\n",
              "      <td>1</td>\n",
              "      <td>0</td>\n",
              "      <td>138</td>\n",
              "      <td>282</td>\n",
              "      <td>1</td>\n",
              "      <td>2</td>\n",
              "      <td>174</td>\n",
              "      <td>0</td>\n",
              "      <td>1.4</td>\n",
              "      <td>1</td>\n",
              "      <td>1</td>\n",
              "      <td>0</td>\n",
              "      <td>1</td>\n",
              "    </tr>\n",
              "    <tr>\n",
              "      <th>4</th>\n",
              "      <td>64</td>\n",
              "      <td>1</td>\n",
              "      <td>0</td>\n",
              "      <td>110</td>\n",
              "      <td>211</td>\n",
              "      <td>0</td>\n",
              "      <td>2</td>\n",
              "      <td>144</td>\n",
              "      <td>1</td>\n",
              "      <td>1.8</td>\n",
              "      <td>1</td>\n",
              "      <td>0</td>\n",
              "      <td>0</td>\n",
              "      <td>0</td>\n",
              "    </tr>\n",
              "  </tbody>\n",
              "</table>\n",
              "</div>\n",
              "      <button class=\"colab-df-convert\" onclick=\"convertToInteractive('df-57bae775-e1d2-4092-8c71-963f641f66b2')\"\n",
              "              title=\"Convert this dataframe to an interactive table.\"\n",
              "              style=\"display:none;\">\n",
              "        \n",
              "  <svg xmlns=\"http://www.w3.org/2000/svg\" height=\"24px\"viewBox=\"0 0 24 24\"\n",
              "       width=\"24px\">\n",
              "    <path d=\"M0 0h24v24H0V0z\" fill=\"none\"/>\n",
              "    <path d=\"M18.56 5.44l.94 2.06.94-2.06 2.06-.94-2.06-.94-.94-2.06-.94 2.06-2.06.94zm-11 1L8.5 8.5l.94-2.06 2.06-.94-2.06-.94L8.5 2.5l-.94 2.06-2.06.94zm10 10l.94 2.06.94-2.06 2.06-.94-2.06-.94-.94-2.06-.94 2.06-2.06.94z\"/><path d=\"M17.41 7.96l-1.37-1.37c-.4-.4-.92-.59-1.43-.59-.52 0-1.04.2-1.43.59L10.3 9.45l-7.72 7.72c-.78.78-.78 2.05 0 2.83L4 21.41c.39.39.9.59 1.41.59.51 0 1.02-.2 1.41-.59l7.78-7.78 2.81-2.81c.8-.78.8-2.07 0-2.86zM5.41 20L4 18.59l7.72-7.72 1.47 1.35L5.41 20z\"/>\n",
              "  </svg>\n",
              "      </button>\n",
              "      \n",
              "  <style>\n",
              "    .colab-df-container {\n",
              "      display:flex;\n",
              "      flex-wrap:wrap;\n",
              "      gap: 12px;\n",
              "    }\n",
              "\n",
              "    .colab-df-convert {\n",
              "      background-color: #E8F0FE;\n",
              "      border: none;\n",
              "      border-radius: 50%;\n",
              "      cursor: pointer;\n",
              "      display: none;\n",
              "      fill: #1967D2;\n",
              "      height: 32px;\n",
              "      padding: 0 0 0 0;\n",
              "      width: 32px;\n",
              "    }\n",
              "\n",
              "    .colab-df-convert:hover {\n",
              "      background-color: #E2EBFA;\n",
              "      box-shadow: 0px 1px 2px rgba(60, 64, 67, 0.3), 0px 1px 3px 1px rgba(60, 64, 67, 0.15);\n",
              "      fill: #174EA6;\n",
              "    }\n",
              "\n",
              "    [theme=dark] .colab-df-convert {\n",
              "      background-color: #3B4455;\n",
              "      fill: #D2E3FC;\n",
              "    }\n",
              "\n",
              "    [theme=dark] .colab-df-convert:hover {\n",
              "      background-color: #434B5C;\n",
              "      box-shadow: 0px 1px 3px 1px rgba(0, 0, 0, 0.15);\n",
              "      filter: drop-shadow(0px 1px 2px rgba(0, 0, 0, 0.3));\n",
              "      fill: #FFFFFF;\n",
              "    }\n",
              "  </style>\n",
              "\n",
              "      <script>\n",
              "        const buttonEl =\n",
              "          document.querySelector('#df-57bae775-e1d2-4092-8c71-963f641f66b2 button.colab-df-convert');\n",
              "        buttonEl.style.display =\n",
              "          google.colab.kernel.accessAllowed ? 'block' : 'none';\n",
              "\n",
              "        async function convertToInteractive(key) {\n",
              "          const element = document.querySelector('#df-57bae775-e1d2-4092-8c71-963f641f66b2');\n",
              "          const dataTable =\n",
              "            await google.colab.kernel.invokeFunction('convertToInteractive',\n",
              "                                                     [key], {});\n",
              "          if (!dataTable) return;\n",
              "\n",
              "          const docLinkHtml = 'Like what you see? Visit the ' +\n",
              "            '<a target=\"_blank\" href=https://colab.research.google.com/notebooks/data_table.ipynb>data table notebook</a>'\n",
              "            + ' to learn more about interactive tables.';\n",
              "          element.innerHTML = '';\n",
              "          dataTable['output_type'] = 'display_data';\n",
              "          await google.colab.output.renderOutput(dataTable, element);\n",
              "          const docLink = document.createElement('div');\n",
              "          docLink.innerHTML = docLinkHtml;\n",
              "          element.appendChild(docLink);\n",
              "        }\n",
              "      </script>\n",
              "    </div>\n",
              "  </div>\n",
              "  "
            ]
          },
          "metadata": {},
          "execution_count": 3
        }
      ],
      "source": [
        "df.head()"
      ]
    },
    {
      "cell_type": "code",
      "source": [
        "# Veri setinin son 5 satırını yazdır\n",
        "df.tail()"
      ],
      "metadata": {
        "colab": {
          "base_uri": "https://localhost:8080/",
          "height": 206
        },
        "id": "uZb7URNOzOlb",
        "outputId": "cb884fef-903d-499e-8ace-d6d2e02cd7f8"
      },
      "id": "uZb7URNOzOlb",
      "execution_count": null,
      "outputs": [
        {
          "output_type": "execute_result",
          "data": {
            "text/plain": [
              "     age  sex  cp  trestbps  chol  fbs  restecg  thalach  exang  oldpeak  \\\n",
              "292   40    1   3       152   223    0        0      181      0      0.0   \n",
              "293   39    1   3       118   219    0        0      140      0      1.2   \n",
              "294   35    1   3       120   198    0        0      130      1      1.6   \n",
              "295   35    0   3       138   183    0        0      182      0      1.4   \n",
              "296   35    1   3       126   282    0        2      156      1      0.0   \n",
              "\n",
              "     slope  ca  thal  condition  \n",
              "292      0   0     2          1  \n",
              "293      1   0     2          1  \n",
              "294      1   0     2          1  \n",
              "295      0   0     0          0  \n",
              "296      0   0     2          1  "
            ],
            "text/html": [
              "\n",
              "  <div id=\"df-361b6b64-e86e-46ce-9319-89ac883234d5\">\n",
              "    <div class=\"colab-df-container\">\n",
              "      <div>\n",
              "<style scoped>\n",
              "    .dataframe tbody tr th:only-of-type {\n",
              "        vertical-align: middle;\n",
              "    }\n",
              "\n",
              "    .dataframe tbody tr th {\n",
              "        vertical-align: top;\n",
              "    }\n",
              "\n",
              "    .dataframe thead th {\n",
              "        text-align: right;\n",
              "    }\n",
              "</style>\n",
              "<table border=\"1\" class=\"dataframe\">\n",
              "  <thead>\n",
              "    <tr style=\"text-align: right;\">\n",
              "      <th></th>\n",
              "      <th>age</th>\n",
              "      <th>sex</th>\n",
              "      <th>cp</th>\n",
              "      <th>trestbps</th>\n",
              "      <th>chol</th>\n",
              "      <th>fbs</th>\n",
              "      <th>restecg</th>\n",
              "      <th>thalach</th>\n",
              "      <th>exang</th>\n",
              "      <th>oldpeak</th>\n",
              "      <th>slope</th>\n",
              "      <th>ca</th>\n",
              "      <th>thal</th>\n",
              "      <th>condition</th>\n",
              "    </tr>\n",
              "  </thead>\n",
              "  <tbody>\n",
              "    <tr>\n",
              "      <th>292</th>\n",
              "      <td>40</td>\n",
              "      <td>1</td>\n",
              "      <td>3</td>\n",
              "      <td>152</td>\n",
              "      <td>223</td>\n",
              "      <td>0</td>\n",
              "      <td>0</td>\n",
              "      <td>181</td>\n",
              "      <td>0</td>\n",
              "      <td>0.0</td>\n",
              "      <td>0</td>\n",
              "      <td>0</td>\n",
              "      <td>2</td>\n",
              "      <td>1</td>\n",
              "    </tr>\n",
              "    <tr>\n",
              "      <th>293</th>\n",
              "      <td>39</td>\n",
              "      <td>1</td>\n",
              "      <td>3</td>\n",
              "      <td>118</td>\n",
              "      <td>219</td>\n",
              "      <td>0</td>\n",
              "      <td>0</td>\n",
              "      <td>140</td>\n",
              "      <td>0</td>\n",
              "      <td>1.2</td>\n",
              "      <td>1</td>\n",
              "      <td>0</td>\n",
              "      <td>2</td>\n",
              "      <td>1</td>\n",
              "    </tr>\n",
              "    <tr>\n",
              "      <th>294</th>\n",
              "      <td>35</td>\n",
              "      <td>1</td>\n",
              "      <td>3</td>\n",
              "      <td>120</td>\n",
              "      <td>198</td>\n",
              "      <td>0</td>\n",
              "      <td>0</td>\n",
              "      <td>130</td>\n",
              "      <td>1</td>\n",
              "      <td>1.6</td>\n",
              "      <td>1</td>\n",
              "      <td>0</td>\n",
              "      <td>2</td>\n",
              "      <td>1</td>\n",
              "    </tr>\n",
              "    <tr>\n",
              "      <th>295</th>\n",
              "      <td>35</td>\n",
              "      <td>0</td>\n",
              "      <td>3</td>\n",
              "      <td>138</td>\n",
              "      <td>183</td>\n",
              "      <td>0</td>\n",
              "      <td>0</td>\n",
              "      <td>182</td>\n",
              "      <td>0</td>\n",
              "      <td>1.4</td>\n",
              "      <td>0</td>\n",
              "      <td>0</td>\n",
              "      <td>0</td>\n",
              "      <td>0</td>\n",
              "    </tr>\n",
              "    <tr>\n",
              "      <th>296</th>\n",
              "      <td>35</td>\n",
              "      <td>1</td>\n",
              "      <td>3</td>\n",
              "      <td>126</td>\n",
              "      <td>282</td>\n",
              "      <td>0</td>\n",
              "      <td>2</td>\n",
              "      <td>156</td>\n",
              "      <td>1</td>\n",
              "      <td>0.0</td>\n",
              "      <td>0</td>\n",
              "      <td>0</td>\n",
              "      <td>2</td>\n",
              "      <td>1</td>\n",
              "    </tr>\n",
              "  </tbody>\n",
              "</table>\n",
              "</div>\n",
              "      <button class=\"colab-df-convert\" onclick=\"convertToInteractive('df-361b6b64-e86e-46ce-9319-89ac883234d5')\"\n",
              "              title=\"Convert this dataframe to an interactive table.\"\n",
              "              style=\"display:none;\">\n",
              "        \n",
              "  <svg xmlns=\"http://www.w3.org/2000/svg\" height=\"24px\"viewBox=\"0 0 24 24\"\n",
              "       width=\"24px\">\n",
              "    <path d=\"M0 0h24v24H0V0z\" fill=\"none\"/>\n",
              "    <path d=\"M18.56 5.44l.94 2.06.94-2.06 2.06-.94-2.06-.94-.94-2.06-.94 2.06-2.06.94zm-11 1L8.5 8.5l.94-2.06 2.06-.94-2.06-.94L8.5 2.5l-.94 2.06-2.06.94zm10 10l.94 2.06.94-2.06 2.06-.94-2.06-.94-.94-2.06-.94 2.06-2.06.94z\"/><path d=\"M17.41 7.96l-1.37-1.37c-.4-.4-.92-.59-1.43-.59-.52 0-1.04.2-1.43.59L10.3 9.45l-7.72 7.72c-.78.78-.78 2.05 0 2.83L4 21.41c.39.39.9.59 1.41.59.51 0 1.02-.2 1.41-.59l7.78-7.78 2.81-2.81c.8-.78.8-2.07 0-2.86zM5.41 20L4 18.59l7.72-7.72 1.47 1.35L5.41 20z\"/>\n",
              "  </svg>\n",
              "      </button>\n",
              "      \n",
              "  <style>\n",
              "    .colab-df-container {\n",
              "      display:flex;\n",
              "      flex-wrap:wrap;\n",
              "      gap: 12px;\n",
              "    }\n",
              "\n",
              "    .colab-df-convert {\n",
              "      background-color: #E8F0FE;\n",
              "      border: none;\n",
              "      border-radius: 50%;\n",
              "      cursor: pointer;\n",
              "      display: none;\n",
              "      fill: #1967D2;\n",
              "      height: 32px;\n",
              "      padding: 0 0 0 0;\n",
              "      width: 32px;\n",
              "    }\n",
              "\n",
              "    .colab-df-convert:hover {\n",
              "      background-color: #E2EBFA;\n",
              "      box-shadow: 0px 1px 2px rgba(60, 64, 67, 0.3), 0px 1px 3px 1px rgba(60, 64, 67, 0.15);\n",
              "      fill: #174EA6;\n",
              "    }\n",
              "\n",
              "    [theme=dark] .colab-df-convert {\n",
              "      background-color: #3B4455;\n",
              "      fill: #D2E3FC;\n",
              "    }\n",
              "\n",
              "    [theme=dark] .colab-df-convert:hover {\n",
              "      background-color: #434B5C;\n",
              "      box-shadow: 0px 1px 3px 1px rgba(0, 0, 0, 0.15);\n",
              "      filter: drop-shadow(0px 1px 2px rgba(0, 0, 0, 0.3));\n",
              "      fill: #FFFFFF;\n",
              "    }\n",
              "  </style>\n",
              "\n",
              "      <script>\n",
              "        const buttonEl =\n",
              "          document.querySelector('#df-361b6b64-e86e-46ce-9319-89ac883234d5 button.colab-df-convert');\n",
              "        buttonEl.style.display =\n",
              "          google.colab.kernel.accessAllowed ? 'block' : 'none';\n",
              "\n",
              "        async function convertToInteractive(key) {\n",
              "          const element = document.querySelector('#df-361b6b64-e86e-46ce-9319-89ac883234d5');\n",
              "          const dataTable =\n",
              "            await google.colab.kernel.invokeFunction('convertToInteractive',\n",
              "                                                     [key], {});\n",
              "          if (!dataTable) return;\n",
              "\n",
              "          const docLinkHtml = 'Like what you see? Visit the ' +\n",
              "            '<a target=\"_blank\" href=https://colab.research.google.com/notebooks/data_table.ipynb>data table notebook</a>'\n",
              "            + ' to learn more about interactive tables.';\n",
              "          element.innerHTML = '';\n",
              "          dataTable['output_type'] = 'display_data';\n",
              "          await google.colab.output.renderOutput(dataTable, element);\n",
              "          const docLink = document.createElement('div');\n",
              "          docLink.innerHTML = docLinkHtml;\n",
              "          element.appendChild(docLink);\n",
              "        }\n",
              "      </script>\n",
              "    </div>\n",
              "  </div>\n",
              "  "
            ]
          },
          "metadata": {},
          "execution_count": 4
        }
      ]
    },
    {
      "cell_type": "code",
      "source": [
        "# Veri setindeki satır ve sütün sayısı\n",
        "df.shape"
      ],
      "metadata": {
        "colab": {
          "base_uri": "https://localhost:8080/"
        },
        "id": "4tAt6JTHzkx-",
        "outputId": "61ccf621-8be1-430b-aefb-4c56484ed967"
      },
      "id": "4tAt6JTHzkx-",
      "execution_count": null,
      "outputs": [
        {
          "output_type": "execute_result",
          "data": {
            "text/plain": [
              "(297, 14)"
            ]
          },
          "metadata": {},
          "execution_count": 5
        }
      ]
    },
    {
      "cell_type": "code",
      "source": [
        "# Veriler hakkında bilgi\n",
        "df.info()"
      ],
      "metadata": {
        "colab": {
          "base_uri": "https://localhost:8080/"
        },
        "id": "FpHPRQHAzv7z",
        "outputId": "42b28c92-eec6-4303-a25e-0374921e5864"
      },
      "id": "FpHPRQHAzv7z",
      "execution_count": null,
      "outputs": [
        {
          "output_type": "stream",
          "name": "stdout",
          "text": [
            "<class 'pandas.core.frame.DataFrame'>\n",
            "RangeIndex: 297 entries, 0 to 296\n",
            "Data columns (total 14 columns):\n",
            " #   Column     Non-Null Count  Dtype  \n",
            "---  ------     --------------  -----  \n",
            " 0   age        297 non-null    int64  \n",
            " 1   sex        297 non-null    int64  \n",
            " 2   cp         297 non-null    int64  \n",
            " 3   trestbps   297 non-null    int64  \n",
            " 4   chol       297 non-null    int64  \n",
            " 5   fbs        297 non-null    int64  \n",
            " 6   restecg    297 non-null    int64  \n",
            " 7   thalach    297 non-null    int64  \n",
            " 8   exang      297 non-null    int64  \n",
            " 9   oldpeak    297 non-null    float64\n",
            " 10  slope      297 non-null    int64  \n",
            " 11  ca         297 non-null    int64  \n",
            " 12  thal       297 non-null    int64  \n",
            " 13  condition  297 non-null    int64  \n",
            "dtypes: float64(1), int64(13)\n",
            "memory usage: 32.6 KB\n"
          ]
        }
      ]
    },
    {
      "cell_type": "code",
      "source": [
        "# Eksik değerleri kontrol etme\n",
        "df.isnull().sum()"
      ],
      "metadata": {
        "colab": {
          "base_uri": "https://localhost:8080/"
        },
        "id": "SGFCTC-Kz4ah",
        "outputId": "7c107be5-df3f-4b69-f687-af936d710794"
      },
      "id": "SGFCTC-Kz4ah",
      "execution_count": null,
      "outputs": [
        {
          "output_type": "execute_result",
          "data": {
            "text/plain": [
              "age          0\n",
              "sex          0\n",
              "cp           0\n",
              "trestbps     0\n",
              "chol         0\n",
              "fbs          0\n",
              "restecg      0\n",
              "thalach      0\n",
              "exang        0\n",
              "oldpeak      0\n",
              "slope        0\n",
              "ca           0\n",
              "thal         0\n",
              "condition    0\n",
              "dtype: int64"
            ]
          },
          "metadata": {},
          "execution_count": 7
        }
      ]
    },
    {
      "cell_type": "code",
      "execution_count": null,
      "id": "266d7d0c",
      "metadata": {
        "colab": {
          "base_uri": "https://localhost:8080/",
          "height": 344
        },
        "id": "266d7d0c",
        "outputId": "f4e609d5-ee84-451c-df20-138de6e7b5d4"
      },
      "outputs": [
        {
          "output_type": "execute_result",
          "data": {
            "text/plain": [
              "              age         sex          cp    trestbps        chol         fbs  \\\n",
              "count  297.000000  297.000000  297.000000  297.000000  297.000000  297.000000   \n",
              "mean    54.542088    0.676768    2.158249  131.693603  247.350168    0.144781   \n",
              "std      9.049736    0.468500    0.964859   17.762806   51.997583    0.352474   \n",
              "min     29.000000    0.000000    0.000000   94.000000  126.000000    0.000000   \n",
              "25%     48.000000    0.000000    2.000000  120.000000  211.000000    0.000000   \n",
              "50%     56.000000    1.000000    2.000000  130.000000  243.000000    0.000000   \n",
              "75%     61.000000    1.000000    3.000000  140.000000  276.000000    0.000000   \n",
              "max     77.000000    1.000000    3.000000  200.000000  564.000000    1.000000   \n",
              "\n",
              "          restecg     thalach       exang     oldpeak       slope          ca  \\\n",
              "count  297.000000  297.000000  297.000000  297.000000  297.000000  297.000000   \n",
              "mean     0.996633  149.599327    0.326599    1.055556    0.602694    0.676768   \n",
              "std      0.994914   22.941562    0.469761    1.166123    0.618187    0.938965   \n",
              "min      0.000000   71.000000    0.000000    0.000000    0.000000    0.000000   \n",
              "25%      0.000000  133.000000    0.000000    0.000000    0.000000    0.000000   \n",
              "50%      1.000000  153.000000    0.000000    0.800000    1.000000    0.000000   \n",
              "75%      2.000000  166.000000    1.000000    1.600000    1.000000    1.000000   \n",
              "max      2.000000  202.000000    1.000000    6.200000    2.000000    3.000000   \n",
              "\n",
              "             thal   condition  \n",
              "count  297.000000  297.000000  \n",
              "mean     0.835017    0.461279  \n",
              "std      0.956690    0.499340  \n",
              "min      0.000000    0.000000  \n",
              "25%      0.000000    0.000000  \n",
              "50%      0.000000    0.000000  \n",
              "75%      2.000000    1.000000  \n",
              "max      2.000000    1.000000  "
            ],
            "text/html": [
              "\n",
              "  <div id=\"df-c4c97623-1a58-4aa5-9c93-f1cce8a354e1\">\n",
              "    <div class=\"colab-df-container\">\n",
              "      <div>\n",
              "<style scoped>\n",
              "    .dataframe tbody tr th:only-of-type {\n",
              "        vertical-align: middle;\n",
              "    }\n",
              "\n",
              "    .dataframe tbody tr th {\n",
              "        vertical-align: top;\n",
              "    }\n",
              "\n",
              "    .dataframe thead th {\n",
              "        text-align: right;\n",
              "    }\n",
              "</style>\n",
              "<table border=\"1\" class=\"dataframe\">\n",
              "  <thead>\n",
              "    <tr style=\"text-align: right;\">\n",
              "      <th></th>\n",
              "      <th>age</th>\n",
              "      <th>sex</th>\n",
              "      <th>cp</th>\n",
              "      <th>trestbps</th>\n",
              "      <th>chol</th>\n",
              "      <th>fbs</th>\n",
              "      <th>restecg</th>\n",
              "      <th>thalach</th>\n",
              "      <th>exang</th>\n",
              "      <th>oldpeak</th>\n",
              "      <th>slope</th>\n",
              "      <th>ca</th>\n",
              "      <th>thal</th>\n",
              "      <th>condition</th>\n",
              "    </tr>\n",
              "  </thead>\n",
              "  <tbody>\n",
              "    <tr>\n",
              "      <th>count</th>\n",
              "      <td>297.000000</td>\n",
              "      <td>297.000000</td>\n",
              "      <td>297.000000</td>\n",
              "      <td>297.000000</td>\n",
              "      <td>297.000000</td>\n",
              "      <td>297.000000</td>\n",
              "      <td>297.000000</td>\n",
              "      <td>297.000000</td>\n",
              "      <td>297.000000</td>\n",
              "      <td>297.000000</td>\n",
              "      <td>297.000000</td>\n",
              "      <td>297.000000</td>\n",
              "      <td>297.000000</td>\n",
              "      <td>297.000000</td>\n",
              "    </tr>\n",
              "    <tr>\n",
              "      <th>mean</th>\n",
              "      <td>54.542088</td>\n",
              "      <td>0.676768</td>\n",
              "      <td>2.158249</td>\n",
              "      <td>131.693603</td>\n",
              "      <td>247.350168</td>\n",
              "      <td>0.144781</td>\n",
              "      <td>0.996633</td>\n",
              "      <td>149.599327</td>\n",
              "      <td>0.326599</td>\n",
              "      <td>1.055556</td>\n",
              "      <td>0.602694</td>\n",
              "      <td>0.676768</td>\n",
              "      <td>0.835017</td>\n",
              "      <td>0.461279</td>\n",
              "    </tr>\n",
              "    <tr>\n",
              "      <th>std</th>\n",
              "      <td>9.049736</td>\n",
              "      <td>0.468500</td>\n",
              "      <td>0.964859</td>\n",
              "      <td>17.762806</td>\n",
              "      <td>51.997583</td>\n",
              "      <td>0.352474</td>\n",
              "      <td>0.994914</td>\n",
              "      <td>22.941562</td>\n",
              "      <td>0.469761</td>\n",
              "      <td>1.166123</td>\n",
              "      <td>0.618187</td>\n",
              "      <td>0.938965</td>\n",
              "      <td>0.956690</td>\n",
              "      <td>0.499340</td>\n",
              "    </tr>\n",
              "    <tr>\n",
              "      <th>min</th>\n",
              "      <td>29.000000</td>\n",
              "      <td>0.000000</td>\n",
              "      <td>0.000000</td>\n",
              "      <td>94.000000</td>\n",
              "      <td>126.000000</td>\n",
              "      <td>0.000000</td>\n",
              "      <td>0.000000</td>\n",
              "      <td>71.000000</td>\n",
              "      <td>0.000000</td>\n",
              "      <td>0.000000</td>\n",
              "      <td>0.000000</td>\n",
              "      <td>0.000000</td>\n",
              "      <td>0.000000</td>\n",
              "      <td>0.000000</td>\n",
              "    </tr>\n",
              "    <tr>\n",
              "      <th>25%</th>\n",
              "      <td>48.000000</td>\n",
              "      <td>0.000000</td>\n",
              "      <td>2.000000</td>\n",
              "      <td>120.000000</td>\n",
              "      <td>211.000000</td>\n",
              "      <td>0.000000</td>\n",
              "      <td>0.000000</td>\n",
              "      <td>133.000000</td>\n",
              "      <td>0.000000</td>\n",
              "      <td>0.000000</td>\n",
              "      <td>0.000000</td>\n",
              "      <td>0.000000</td>\n",
              "      <td>0.000000</td>\n",
              "      <td>0.000000</td>\n",
              "    </tr>\n",
              "    <tr>\n",
              "      <th>50%</th>\n",
              "      <td>56.000000</td>\n",
              "      <td>1.000000</td>\n",
              "      <td>2.000000</td>\n",
              "      <td>130.000000</td>\n",
              "      <td>243.000000</td>\n",
              "      <td>0.000000</td>\n",
              "      <td>1.000000</td>\n",
              "      <td>153.000000</td>\n",
              "      <td>0.000000</td>\n",
              "      <td>0.800000</td>\n",
              "      <td>1.000000</td>\n",
              "      <td>0.000000</td>\n",
              "      <td>0.000000</td>\n",
              "      <td>0.000000</td>\n",
              "    </tr>\n",
              "    <tr>\n",
              "      <th>75%</th>\n",
              "      <td>61.000000</td>\n",
              "      <td>1.000000</td>\n",
              "      <td>3.000000</td>\n",
              "      <td>140.000000</td>\n",
              "      <td>276.000000</td>\n",
              "      <td>0.000000</td>\n",
              "      <td>2.000000</td>\n",
              "      <td>166.000000</td>\n",
              "      <td>1.000000</td>\n",
              "      <td>1.600000</td>\n",
              "      <td>1.000000</td>\n",
              "      <td>1.000000</td>\n",
              "      <td>2.000000</td>\n",
              "      <td>1.000000</td>\n",
              "    </tr>\n",
              "    <tr>\n",
              "      <th>max</th>\n",
              "      <td>77.000000</td>\n",
              "      <td>1.000000</td>\n",
              "      <td>3.000000</td>\n",
              "      <td>200.000000</td>\n",
              "      <td>564.000000</td>\n",
              "      <td>1.000000</td>\n",
              "      <td>2.000000</td>\n",
              "      <td>202.000000</td>\n",
              "      <td>1.000000</td>\n",
              "      <td>6.200000</td>\n",
              "      <td>2.000000</td>\n",
              "      <td>3.000000</td>\n",
              "      <td>2.000000</td>\n",
              "      <td>1.000000</td>\n",
              "    </tr>\n",
              "  </tbody>\n",
              "</table>\n",
              "</div>\n",
              "      <button class=\"colab-df-convert\" onclick=\"convertToInteractive('df-c4c97623-1a58-4aa5-9c93-f1cce8a354e1')\"\n",
              "              title=\"Convert this dataframe to an interactive table.\"\n",
              "              style=\"display:none;\">\n",
              "        \n",
              "  <svg xmlns=\"http://www.w3.org/2000/svg\" height=\"24px\"viewBox=\"0 0 24 24\"\n",
              "       width=\"24px\">\n",
              "    <path d=\"M0 0h24v24H0V0z\" fill=\"none\"/>\n",
              "    <path d=\"M18.56 5.44l.94 2.06.94-2.06 2.06-.94-2.06-.94-.94-2.06-.94 2.06-2.06.94zm-11 1L8.5 8.5l.94-2.06 2.06-.94-2.06-.94L8.5 2.5l-.94 2.06-2.06.94zm10 10l.94 2.06.94-2.06 2.06-.94-2.06-.94-.94-2.06-.94 2.06-2.06.94z\"/><path d=\"M17.41 7.96l-1.37-1.37c-.4-.4-.92-.59-1.43-.59-.52 0-1.04.2-1.43.59L10.3 9.45l-7.72 7.72c-.78.78-.78 2.05 0 2.83L4 21.41c.39.39.9.59 1.41.59.51 0 1.02-.2 1.41-.59l7.78-7.78 2.81-2.81c.8-.78.8-2.07 0-2.86zM5.41 20L4 18.59l7.72-7.72 1.47 1.35L5.41 20z\"/>\n",
              "  </svg>\n",
              "      </button>\n",
              "      \n",
              "  <style>\n",
              "    .colab-df-container {\n",
              "      display:flex;\n",
              "      flex-wrap:wrap;\n",
              "      gap: 12px;\n",
              "    }\n",
              "\n",
              "    .colab-df-convert {\n",
              "      background-color: #E8F0FE;\n",
              "      border: none;\n",
              "      border-radius: 50%;\n",
              "      cursor: pointer;\n",
              "      display: none;\n",
              "      fill: #1967D2;\n",
              "      height: 32px;\n",
              "      padding: 0 0 0 0;\n",
              "      width: 32px;\n",
              "    }\n",
              "\n",
              "    .colab-df-convert:hover {\n",
              "      background-color: #E2EBFA;\n",
              "      box-shadow: 0px 1px 2px rgba(60, 64, 67, 0.3), 0px 1px 3px 1px rgba(60, 64, 67, 0.15);\n",
              "      fill: #174EA6;\n",
              "    }\n",
              "\n",
              "    [theme=dark] .colab-df-convert {\n",
              "      background-color: #3B4455;\n",
              "      fill: #D2E3FC;\n",
              "    }\n",
              "\n",
              "    [theme=dark] .colab-df-convert:hover {\n",
              "      background-color: #434B5C;\n",
              "      box-shadow: 0px 1px 3px 1px rgba(0, 0, 0, 0.15);\n",
              "      filter: drop-shadow(0px 1px 2px rgba(0, 0, 0, 0.3));\n",
              "      fill: #FFFFFF;\n",
              "    }\n",
              "  </style>\n",
              "\n",
              "      <script>\n",
              "        const buttonEl =\n",
              "          document.querySelector('#df-c4c97623-1a58-4aa5-9c93-f1cce8a354e1 button.colab-df-convert');\n",
              "        buttonEl.style.display =\n",
              "          google.colab.kernel.accessAllowed ? 'block' : 'none';\n",
              "\n",
              "        async function convertToInteractive(key) {\n",
              "          const element = document.querySelector('#df-c4c97623-1a58-4aa5-9c93-f1cce8a354e1');\n",
              "          const dataTable =\n",
              "            await google.colab.kernel.invokeFunction('convertToInteractive',\n",
              "                                                     [key], {});\n",
              "          if (!dataTable) return;\n",
              "\n",
              "          const docLinkHtml = 'Like what you see? Visit the ' +\n",
              "            '<a target=\"_blank\" href=https://colab.research.google.com/notebooks/data_table.ipynb>data table notebook</a>'\n",
              "            + ' to learn more about interactive tables.';\n",
              "          element.innerHTML = '';\n",
              "          dataTable['output_type'] = 'display_data';\n",
              "          await google.colab.output.renderOutput(dataTable, element);\n",
              "          const docLink = document.createElement('div');\n",
              "          docLink.innerHTML = docLinkHtml;\n",
              "          element.appendChild(docLink);\n",
              "        }\n",
              "      </script>\n",
              "    </div>\n",
              "  </div>\n",
              "  "
            ]
          },
          "metadata": {},
          "execution_count": 8
        }
      ],
      "source": [
        "# Verilerle ilgili istatistiksel önlemler\n",
        "df.describe()"
      ]
    },
    {
      "cell_type": "code",
      "execution_count": null,
      "id": "f5d4afba",
      "metadata": {
        "colab": {
          "base_uri": "https://localhost:8080/"
        },
        "id": "f5d4afba",
        "outputId": "ca3ca0d0-b81e-4b95-d5d3-64e802471ccd"
      },
      "outputs": [
        {
          "output_type": "execute_result",
          "data": {
            "text/plain": [
              "0    160\n",
              "1    137\n",
              "Name: condition, dtype: int64"
            ]
          },
          "metadata": {},
          "execution_count": 9
        }
      ],
      "source": [
        "# Hedef değişkeni olan condition değişkeninin dağılımını kontrol etme\n",
        "df['condition'].value_counts()"
      ]
    },
    {
      "cell_type": "markdown",
      "source": [
        "1 --> Kalp Rahatsızlığı Mevcut\n",
        "\n",
        "0 --> Sağlıklı Kalp"
      ],
      "metadata": {
        "id": "siE3NWuO0prX"
      },
      "id": "siE3NWuO0prX"
    },
    {
      "cell_type": "markdown",
      "source": [
        "**Özellikleri ve Hedefi Bölme**"
      ],
      "metadata": {
        "id": "xxF-KYtf1IOZ"
      },
      "id": "xxF-KYtf1IOZ"
    },
    {
      "cell_type": "code",
      "source": [
        "X = df.drop(columns='condition', axis =1)\n",
        "Y = df['condition']"
      ],
      "metadata": {
        "id": "ZImLh0Eq1RLN"
      },
      "id": "ZImLh0Eq1RLN",
      "execution_count": null,
      "outputs": []
    },
    {
      "cell_type": "code",
      "source": [
        "print(X)"
      ],
      "metadata": {
        "colab": {
          "base_uri": "https://localhost:8080/"
        },
        "id": "S4lMd0Vj1c0o",
        "outputId": "358e4f57-9b9a-49f3-906c-adc3e74ea8f7"
      },
      "id": "S4lMd0Vj1c0o",
      "execution_count": null,
      "outputs": [
        {
          "output_type": "stream",
          "name": "stdout",
          "text": [
            "     age  sex  cp  trestbps  chol  fbs  restecg  thalach  exang  oldpeak  \\\n",
            "0     69    1   0       160   234    1        2      131      0      0.1   \n",
            "1     69    0   0       140   239    0        0      151      0      1.8   \n",
            "2     66    0   0       150   226    0        0      114      0      2.6   \n",
            "3     65    1   0       138   282    1        2      174      0      1.4   \n",
            "4     64    1   0       110   211    0        2      144      1      1.8   \n",
            "..   ...  ...  ..       ...   ...  ...      ...      ...    ...      ...   \n",
            "292   40    1   3       152   223    0        0      181      0      0.0   \n",
            "293   39    1   3       118   219    0        0      140      0      1.2   \n",
            "294   35    1   3       120   198    0        0      130      1      1.6   \n",
            "295   35    0   3       138   183    0        0      182      0      1.4   \n",
            "296   35    1   3       126   282    0        2      156      1      0.0   \n",
            "\n",
            "     slope  ca  thal  \n",
            "0        1   1     0  \n",
            "1        0   2     0  \n",
            "2        2   0     0  \n",
            "3        1   1     0  \n",
            "4        1   0     0  \n",
            "..     ...  ..   ...  \n",
            "292      0   0     2  \n",
            "293      1   0     2  \n",
            "294      1   0     2  \n",
            "295      0   0     0  \n",
            "296      0   0     2  \n",
            "\n",
            "[297 rows x 13 columns]\n"
          ]
        }
      ]
    },
    {
      "cell_type": "code",
      "source": [
        "print(Y)"
      ],
      "metadata": {
        "colab": {
          "base_uri": "https://localhost:8080/"
        },
        "id": "g0RMUhkW1kIQ",
        "outputId": "e68d56fd-85d5-4614-8d82-733fd1281a00"
      },
      "id": "g0RMUhkW1kIQ",
      "execution_count": null,
      "outputs": [
        {
          "output_type": "stream",
          "name": "stdout",
          "text": [
            "0      0\n",
            "1      0\n",
            "2      0\n",
            "3      1\n",
            "4      0\n",
            "      ..\n",
            "292    1\n",
            "293    1\n",
            "294    1\n",
            "295    0\n",
            "296    1\n",
            "Name: condition, Length: 297, dtype: int64\n"
          ]
        }
      ]
    },
    {
      "cell_type": "markdown",
      "source": [
        "**Verileri Train ve Test Verilerine Ayırma**"
      ],
      "metadata": {
        "id": "9NHJfZD71pWF"
      },
      "id": "9NHJfZD71pWF"
    },
    {
      "cell_type": "code",
      "source": [
        "X_train, X_test, Y_train, Y_test = train_test_split(X, Y, test_size=0.2, stratify=Y, random_state=2)\n"
      ],
      "metadata": {
        "id": "vpboZ51_1xbo"
      },
      "id": "vpboZ51_1xbo",
      "execution_count": null,
      "outputs": []
    },
    {
      "cell_type": "code",
      "source": [
        "print(X.shape, X_train.shape, X_test.shape)"
      ],
      "metadata": {
        "colab": {
          "base_uri": "https://localhost:8080/"
        },
        "id": "sLrtctZs15ns",
        "outputId": "e35a4645-4456-423a-bff0-7ff311ff347b"
      },
      "id": "sLrtctZs15ns",
      "execution_count": null,
      "outputs": [
        {
          "output_type": "stream",
          "name": "stdout",
          "text": [
            "(297, 13) (237, 13) (60, 13)\n"
          ]
        }
      ]
    },
    {
      "cell_type": "code",
      "source": [
        "pd.options.mode.chained_assignment = None\n",
        "df['sex'][df['sex'] == 0] = 'Kadın'\n",
        "df['sex'][df['sex'] == 1] = 'Erkek' \n",
        "\n",
        "df['cp'][df['cp'] == 0] = 'Tipik anjina'\n",
        "df['cp'][df['cp'] == 1] = 'Atipik angjna'\n",
        "df['cp'][df['cp'] == 2] = 'Anjin Olmayan Ağrı'\n",
        "df['cp'][df['cp'] == 3] = 'Asemptomatik'\n",
        "\n",
        "df['fbs'][df['fbs'] == 0] = '120mg/mlden düşük'\n",
        "df['fbs'][df['fbs'] == 1] = '120mg/mlden yüksek'\n",
        "\n",
        "df['restecg'][df['restecg'] == 0] = 'Normal'\n",
        "df['restecg'][df['restecg'] == 1] = 'ST-T Dalgası Anormalliği'\n",
        "df['restecg'][df['restecg'] == 2] = 'Sol ventrikül hipertrofisi'\n",
        "\n",
        "df['exang'][df['exang'] == 0] = 'Hayır'\n",
        "df['exang'][df['exang'] == 1] = 'Evet'\n",
        "\n",
        "df['slope'][df['slope'] == 0] = 'Yukarı Eğimli'\n",
        "df['slope'][df['slope'] == 1] = 'Düz'\n",
        "df['slope'][df['slope'] == 2] = 'Aşağı Eğimli'\n",
        "\n",
        "df['thal'][df['thal'] == 0] = 'Normal'\n",
        "df['thal'][df['thal'] == 1] = 'Sabit Kusur'\n",
        "df['thal'][df['thal'] == 2] = 'Geri Döndürülebilir Kusur'\n",
        "\n",
        "df['condition'][df['condition'] == 0] = 'Hayır'\n",
        "df['condition'][df['condition'] == 1] = 'Evet'"
      ],
      "metadata": {
        "id": "t8rs5mEZZGYB"
      },
      "id": "t8rs5mEZZGYB",
      "execution_count": null,
      "outputs": []
    },
    {
      "cell_type": "code",
      "source": [
        "df.head(10)"
      ],
      "metadata": {
        "colab": {
          "base_uri": "https://localhost:8080/",
          "height": 363
        },
        "id": "1enaUuhab11t",
        "outputId": "a61cbeb1-02d0-4c16-e48e-3e6df91a2bce"
      },
      "id": "1enaUuhab11t",
      "execution_count": null,
      "outputs": [
        {
          "output_type": "execute_result",
          "data": {
            "text/plain": [
              "   age    sex            cp  trestbps  chol                 fbs  \\\n",
              "0   69  Erkek  Tipik anjina       160   234  120mg/mlden yüksek   \n",
              "1   69  Kadın  Tipik anjina       140   239   120mg/mlden düşük   \n",
              "2   66  Kadın  Tipik anjina       150   226   120mg/mlden düşük   \n",
              "3   65  Erkek  Tipik anjina       138   282  120mg/mlden yüksek   \n",
              "4   64  Erkek  Tipik anjina       110   211   120mg/mlden düşük   \n",
              "5   64  Erkek  Tipik anjina       170   227   120mg/mlden düşük   \n",
              "6   63  Erkek  Tipik anjina       145   233  120mg/mlden yüksek   \n",
              "7   61  Erkek  Tipik anjina       134   234   120mg/mlden düşük   \n",
              "8   60  Kadın  Tipik anjina       150   240   120mg/mlden düşük   \n",
              "9   59  Erkek  Tipik anjina       178   270   120mg/mlden düşük   \n",
              "\n",
              "                      restecg  thalach  exang  oldpeak          slope  ca  \\\n",
              "0  Sol ventrikül hipertrofisi      131  Hayır      0.1            Düz   1   \n",
              "1                      Normal      151  Hayır      1.8  Yukarı Eğimli   2   \n",
              "2                      Normal      114  Hayır      2.6   Aşağı Eğimli   0   \n",
              "3  Sol ventrikül hipertrofisi      174  Hayır      1.4            Düz   1   \n",
              "4  Sol ventrikül hipertrofisi      144   Evet      1.8            Düz   0   \n",
              "5  Sol ventrikül hipertrofisi      155  Hayır      0.6            Düz   0   \n",
              "6  Sol ventrikül hipertrofisi      150  Hayır      2.3   Aşağı Eğimli   0   \n",
              "7                      Normal      145  Hayır      2.6            Düz   2   \n",
              "8                      Normal      171  Hayır      0.9  Yukarı Eğimli   0   \n",
              "9  Sol ventrikül hipertrofisi      145  Hayır      4.2   Aşağı Eğimli   0   \n",
              "\n",
              "                        thal condition  \n",
              "0                     Normal     Hayır  \n",
              "1                     Normal     Hayır  \n",
              "2                     Normal     Hayır  \n",
              "3                     Normal      Evet  \n",
              "4                     Normal     Hayır  \n",
              "5  Geri Döndürülebilir Kusur     Hayır  \n",
              "6                Sabit Kusur     Hayır  \n",
              "7                     Normal      Evet  \n",
              "8                     Normal     Hayır  \n",
              "9  Geri Döndürülebilir Kusur     Hayır  "
            ],
            "text/html": [
              "\n",
              "  <div id=\"df-eb21f195-a592-4f3b-8b4a-d59ba624b3bd\">\n",
              "    <div class=\"colab-df-container\">\n",
              "      <div>\n",
              "<style scoped>\n",
              "    .dataframe tbody tr th:only-of-type {\n",
              "        vertical-align: middle;\n",
              "    }\n",
              "\n",
              "    .dataframe tbody tr th {\n",
              "        vertical-align: top;\n",
              "    }\n",
              "\n",
              "    .dataframe thead th {\n",
              "        text-align: right;\n",
              "    }\n",
              "</style>\n",
              "<table border=\"1\" class=\"dataframe\">\n",
              "  <thead>\n",
              "    <tr style=\"text-align: right;\">\n",
              "      <th></th>\n",
              "      <th>age</th>\n",
              "      <th>sex</th>\n",
              "      <th>cp</th>\n",
              "      <th>trestbps</th>\n",
              "      <th>chol</th>\n",
              "      <th>fbs</th>\n",
              "      <th>restecg</th>\n",
              "      <th>thalach</th>\n",
              "      <th>exang</th>\n",
              "      <th>oldpeak</th>\n",
              "      <th>slope</th>\n",
              "      <th>ca</th>\n",
              "      <th>thal</th>\n",
              "      <th>condition</th>\n",
              "    </tr>\n",
              "  </thead>\n",
              "  <tbody>\n",
              "    <tr>\n",
              "      <th>0</th>\n",
              "      <td>69</td>\n",
              "      <td>Erkek</td>\n",
              "      <td>Tipik anjina</td>\n",
              "      <td>160</td>\n",
              "      <td>234</td>\n",
              "      <td>120mg/mlden yüksek</td>\n",
              "      <td>Sol ventrikül hipertrofisi</td>\n",
              "      <td>131</td>\n",
              "      <td>Hayır</td>\n",
              "      <td>0.1</td>\n",
              "      <td>Düz</td>\n",
              "      <td>1</td>\n",
              "      <td>Normal</td>\n",
              "      <td>Hayır</td>\n",
              "    </tr>\n",
              "    <tr>\n",
              "      <th>1</th>\n",
              "      <td>69</td>\n",
              "      <td>Kadın</td>\n",
              "      <td>Tipik anjina</td>\n",
              "      <td>140</td>\n",
              "      <td>239</td>\n",
              "      <td>120mg/mlden düşük</td>\n",
              "      <td>Normal</td>\n",
              "      <td>151</td>\n",
              "      <td>Hayır</td>\n",
              "      <td>1.8</td>\n",
              "      <td>Yukarı Eğimli</td>\n",
              "      <td>2</td>\n",
              "      <td>Normal</td>\n",
              "      <td>Hayır</td>\n",
              "    </tr>\n",
              "    <tr>\n",
              "      <th>2</th>\n",
              "      <td>66</td>\n",
              "      <td>Kadın</td>\n",
              "      <td>Tipik anjina</td>\n",
              "      <td>150</td>\n",
              "      <td>226</td>\n",
              "      <td>120mg/mlden düşük</td>\n",
              "      <td>Normal</td>\n",
              "      <td>114</td>\n",
              "      <td>Hayır</td>\n",
              "      <td>2.6</td>\n",
              "      <td>Aşağı Eğimli</td>\n",
              "      <td>0</td>\n",
              "      <td>Normal</td>\n",
              "      <td>Hayır</td>\n",
              "    </tr>\n",
              "    <tr>\n",
              "      <th>3</th>\n",
              "      <td>65</td>\n",
              "      <td>Erkek</td>\n",
              "      <td>Tipik anjina</td>\n",
              "      <td>138</td>\n",
              "      <td>282</td>\n",
              "      <td>120mg/mlden yüksek</td>\n",
              "      <td>Sol ventrikül hipertrofisi</td>\n",
              "      <td>174</td>\n",
              "      <td>Hayır</td>\n",
              "      <td>1.4</td>\n",
              "      <td>Düz</td>\n",
              "      <td>1</td>\n",
              "      <td>Normal</td>\n",
              "      <td>Evet</td>\n",
              "    </tr>\n",
              "    <tr>\n",
              "      <th>4</th>\n",
              "      <td>64</td>\n",
              "      <td>Erkek</td>\n",
              "      <td>Tipik anjina</td>\n",
              "      <td>110</td>\n",
              "      <td>211</td>\n",
              "      <td>120mg/mlden düşük</td>\n",
              "      <td>Sol ventrikül hipertrofisi</td>\n",
              "      <td>144</td>\n",
              "      <td>Evet</td>\n",
              "      <td>1.8</td>\n",
              "      <td>Düz</td>\n",
              "      <td>0</td>\n",
              "      <td>Normal</td>\n",
              "      <td>Hayır</td>\n",
              "    </tr>\n",
              "    <tr>\n",
              "      <th>5</th>\n",
              "      <td>64</td>\n",
              "      <td>Erkek</td>\n",
              "      <td>Tipik anjina</td>\n",
              "      <td>170</td>\n",
              "      <td>227</td>\n",
              "      <td>120mg/mlden düşük</td>\n",
              "      <td>Sol ventrikül hipertrofisi</td>\n",
              "      <td>155</td>\n",
              "      <td>Hayır</td>\n",
              "      <td>0.6</td>\n",
              "      <td>Düz</td>\n",
              "      <td>0</td>\n",
              "      <td>Geri Döndürülebilir Kusur</td>\n",
              "      <td>Hayır</td>\n",
              "    </tr>\n",
              "    <tr>\n",
              "      <th>6</th>\n",
              "      <td>63</td>\n",
              "      <td>Erkek</td>\n",
              "      <td>Tipik anjina</td>\n",
              "      <td>145</td>\n",
              "      <td>233</td>\n",
              "      <td>120mg/mlden yüksek</td>\n",
              "      <td>Sol ventrikül hipertrofisi</td>\n",
              "      <td>150</td>\n",
              "      <td>Hayır</td>\n",
              "      <td>2.3</td>\n",
              "      <td>Aşağı Eğimli</td>\n",
              "      <td>0</td>\n",
              "      <td>Sabit Kusur</td>\n",
              "      <td>Hayır</td>\n",
              "    </tr>\n",
              "    <tr>\n",
              "      <th>7</th>\n",
              "      <td>61</td>\n",
              "      <td>Erkek</td>\n",
              "      <td>Tipik anjina</td>\n",
              "      <td>134</td>\n",
              "      <td>234</td>\n",
              "      <td>120mg/mlden düşük</td>\n",
              "      <td>Normal</td>\n",
              "      <td>145</td>\n",
              "      <td>Hayır</td>\n",
              "      <td>2.6</td>\n",
              "      <td>Düz</td>\n",
              "      <td>2</td>\n",
              "      <td>Normal</td>\n",
              "      <td>Evet</td>\n",
              "    </tr>\n",
              "    <tr>\n",
              "      <th>8</th>\n",
              "      <td>60</td>\n",
              "      <td>Kadın</td>\n",
              "      <td>Tipik anjina</td>\n",
              "      <td>150</td>\n",
              "      <td>240</td>\n",
              "      <td>120mg/mlden düşük</td>\n",
              "      <td>Normal</td>\n",
              "      <td>171</td>\n",
              "      <td>Hayır</td>\n",
              "      <td>0.9</td>\n",
              "      <td>Yukarı Eğimli</td>\n",
              "      <td>0</td>\n",
              "      <td>Normal</td>\n",
              "      <td>Hayır</td>\n",
              "    </tr>\n",
              "    <tr>\n",
              "      <th>9</th>\n",
              "      <td>59</td>\n",
              "      <td>Erkek</td>\n",
              "      <td>Tipik anjina</td>\n",
              "      <td>178</td>\n",
              "      <td>270</td>\n",
              "      <td>120mg/mlden düşük</td>\n",
              "      <td>Sol ventrikül hipertrofisi</td>\n",
              "      <td>145</td>\n",
              "      <td>Hayır</td>\n",
              "      <td>4.2</td>\n",
              "      <td>Aşağı Eğimli</td>\n",
              "      <td>0</td>\n",
              "      <td>Geri Döndürülebilir Kusur</td>\n",
              "      <td>Hayır</td>\n",
              "    </tr>\n",
              "  </tbody>\n",
              "</table>\n",
              "</div>\n",
              "      <button class=\"colab-df-convert\" onclick=\"convertToInteractive('df-eb21f195-a592-4f3b-8b4a-d59ba624b3bd')\"\n",
              "              title=\"Convert this dataframe to an interactive table.\"\n",
              "              style=\"display:none;\">\n",
              "        \n",
              "  <svg xmlns=\"http://www.w3.org/2000/svg\" height=\"24px\"viewBox=\"0 0 24 24\"\n",
              "       width=\"24px\">\n",
              "    <path d=\"M0 0h24v24H0V0z\" fill=\"none\"/>\n",
              "    <path d=\"M18.56 5.44l.94 2.06.94-2.06 2.06-.94-2.06-.94-.94-2.06-.94 2.06-2.06.94zm-11 1L8.5 8.5l.94-2.06 2.06-.94-2.06-.94L8.5 2.5l-.94 2.06-2.06.94zm10 10l.94 2.06.94-2.06 2.06-.94-2.06-.94-.94-2.06-.94 2.06-2.06.94z\"/><path d=\"M17.41 7.96l-1.37-1.37c-.4-.4-.92-.59-1.43-.59-.52 0-1.04.2-1.43.59L10.3 9.45l-7.72 7.72c-.78.78-.78 2.05 0 2.83L4 21.41c.39.39.9.59 1.41.59.51 0 1.02-.2 1.41-.59l7.78-7.78 2.81-2.81c.8-.78.8-2.07 0-2.86zM5.41 20L4 18.59l7.72-7.72 1.47 1.35L5.41 20z\"/>\n",
              "  </svg>\n",
              "      </button>\n",
              "      \n",
              "  <style>\n",
              "    .colab-df-container {\n",
              "      display:flex;\n",
              "      flex-wrap:wrap;\n",
              "      gap: 12px;\n",
              "    }\n",
              "\n",
              "    .colab-df-convert {\n",
              "      background-color: #E8F0FE;\n",
              "      border: none;\n",
              "      border-radius: 50%;\n",
              "      cursor: pointer;\n",
              "      display: none;\n",
              "      fill: #1967D2;\n",
              "      height: 32px;\n",
              "      padding: 0 0 0 0;\n",
              "      width: 32px;\n",
              "    }\n",
              "\n",
              "    .colab-df-convert:hover {\n",
              "      background-color: #E2EBFA;\n",
              "      box-shadow: 0px 1px 2px rgba(60, 64, 67, 0.3), 0px 1px 3px 1px rgba(60, 64, 67, 0.15);\n",
              "      fill: #174EA6;\n",
              "    }\n",
              "\n",
              "    [theme=dark] .colab-df-convert {\n",
              "      background-color: #3B4455;\n",
              "      fill: #D2E3FC;\n",
              "    }\n",
              "\n",
              "    [theme=dark] .colab-df-convert:hover {\n",
              "      background-color: #434B5C;\n",
              "      box-shadow: 0px 1px 3px 1px rgba(0, 0, 0, 0.15);\n",
              "      filter: drop-shadow(0px 1px 2px rgba(0, 0, 0, 0.3));\n",
              "      fill: #FFFFFF;\n",
              "    }\n",
              "  </style>\n",
              "\n",
              "      <script>\n",
              "        const buttonEl =\n",
              "          document.querySelector('#df-eb21f195-a592-4f3b-8b4a-d59ba624b3bd button.colab-df-convert');\n",
              "        buttonEl.style.display =\n",
              "          google.colab.kernel.accessAllowed ? 'block' : 'none';\n",
              "\n",
              "        async function convertToInteractive(key) {\n",
              "          const element = document.querySelector('#df-eb21f195-a592-4f3b-8b4a-d59ba624b3bd');\n",
              "          const dataTable =\n",
              "            await google.colab.kernel.invokeFunction('convertToInteractive',\n",
              "                                                     [key], {});\n",
              "          if (!dataTable) return;\n",
              "\n",
              "          const docLinkHtml = 'Like what you see? Visit the ' +\n",
              "            '<a target=\"_blank\" href=https://colab.research.google.com/notebooks/data_table.ipynb>data table notebook</a>'\n",
              "            + ' to learn more about interactive tables.';\n",
              "          element.innerHTML = '';\n",
              "          dataTable['output_type'] = 'display_data';\n",
              "          await google.colab.output.renderOutput(dataTable, element);\n",
              "          const docLink = document.createElement('div');\n",
              "          docLink.innerHTML = docLinkHtml;\n",
              "          element.appendChild(docLink);\n",
              "        }\n",
              "      </script>\n",
              "    </div>\n",
              "  </div>\n",
              "  "
            ]
          },
          "metadata": {},
          "execution_count": 59
        }
      ]
    },
    {
      "cell_type": "code",
      "source": [
        "sns.set(style=\"darkgrid\")\n",
        "df.condition.value_counts().plot(kind=\"bar\",figsize=(5,5),color=['#3CB371','#EE6363'])\n",
        "plt.title('Hedef değişkenin dağılımı',fontsize=15)\n",
        "plt.xlabel('Kalp Hastalığı',fontsize=12)\n",
        "plt.ylabel('Sıklık',fontsize=12)\n",
        "plt.xticks(rotation=0)\n",
        "plt.show()"
      ],
      "metadata": {
        "colab": {
          "base_uri": "https://localhost:8080/",
          "height": 358
        },
        "id": "sIM5qiwQb_L4",
        "outputId": "73f20501-527f-4ef7-f379-b8915de1954f"
      },
      "id": "sIM5qiwQb_L4",
      "execution_count": null,
      "outputs": [
        {
          "output_type": "display_data",
          "data": {
            "text/plain": [
              "<Figure size 360x360 with 1 Axes>"
            ],
            "image/png": "[encoded data removed]"
          },
          "metadata": {}
        }
      ]
    },
    {
      "cell_type": "code",
      "source": [
        "countNoDisease = len(df[df.condition == \"Hayır\"])\n",
        "countHaveDisease = len(df[df.condition == \"Evet\"])\n",
        "print(\"Kalp Hastalığı Olmayan Hastaların Yüzdesi: {:.2f}%\".format((countNoDisease / (len(df.condition)) * 100)))\n",
        "print(\"Kalp Hastalığı Olan Hastaların Yüzdesi: {:.2f}%\".format((countHaveDisease / (len(df.condition)) * 100)))"
      ],
      "metadata": {
        "colab": {
          "base_uri": "https://localhost:8080/"
        },
        "id": "88bTNo7ocQoz",
        "outputId": "8d145c5d-0f56-491b-dd8f-71fe5e5a2e52"
      },
      "id": "88bTNo7ocQoz",
      "execution_count": null,
      "outputs": [
        {
          "output_type": "stream",
          "name": "stdout",
          "text": [
            "Kalp Hastalığı Olmayan Hastaların Yüzdesi: 53.87%\n",
            "Kalp Hastalığı Olan Hastaların Yüzdesi: 46.13%\n"
          ]
        }
      ]
    },
    {
      "cell_type": "markdown",
      "source": [
        "Veri Setimiz Dengeli."
      ],
      "metadata": {
        "id": "3jegisvUcpoh"
      },
      "id": "3jegisvUcpoh"
    },
    {
      "cell_type": "code",
      "source": [
        "sns.set(style=\"darkgrid\")\n",
        "pd.crosstab(df.sex,df.condition).plot(kind=\"bar\",figsize=(6,5),color=['#BAD720',\"#33A1C9\"])\n",
        "plt.title('Kalp Hastalığı vs Cinsiyet',fontsize=15)\n",
        "plt.xlabel('Cinsiyet',fontsize=12)\n",
        "plt.xticks(rotation=0)\n",
        "plt.legend([\"Kalp Hastalığı Yok\", \"Kalp Hastalığı Var\"])\n",
        "plt.ylabel('Sıklık',fontsize=12)\n",
        "plt.show()"
      ],
      "metadata": {
        "colab": {
          "base_uri": "https://localhost:8080/",
          "height": 358
        },
        "id": "V3Fw0kazcsiL",
        "outputId": "b378f0f9-d7b0-4d3c-8b05-5eb3774ff4fe"
      },
      "id": "V3Fw0kazcsiL",
      "execution_count": null,
      "outputs": [
        {
          "output_type": "display_data",
          "data": {
            "text/plain": [
              "<Figure size 432x360 with 1 Axes>"
            ],
            "image/png": "[encoded data removed]"
          },
          "metadata": {}
        }
      ]
    },
    {
      "cell_type": "markdown",
      "source": [
        "Erkeklerde kalp hastalığı, kadınlara oranla daha fazladır."
      ],
      "metadata": {
        "id": "JQENYvCidNO7"
      },
      "id": "JQENYvCidNO7"
    },
    {
      "cell_type": "code",
      "source": [
        "sns.set(style=\"darkgrid\")\n",
        "pd.crosstab(df.slope, df.condition).plot(kind=\"bar\", figsize=(8,5), color=[\"#33A1C9\", \"#FFA54F\"], ax=plt.gca())\n",
        "plt.legend([\"Kalp Hastalığı Yok\", \"Kalp Hastalığı Var\"])\n",
        "plt.title(\"Şiddeti düzenli olarak artan yüke karşı yapılan egzersiz sırasında iş gücünün kalp atım oranı\",fontsize=15)\n",
        "plt.xlabel(\"Zirve Egzersizi Segmentinin Eğimi\",fontsize=12)\n",
        "plt.xticks(rotation=0)\n",
        "plt.gca().set_xticklabels(labels=[\"Aşağı Eğimli\",\"Düz\",\"Yukarı Eğimli\"])\n",
        "plt.ylabel(\"Sıklık\",fontsize=12)\n",
        "plt.show()"
      ],
      "metadata": {
        "colab": {
          "base_uri": "https://localhost:8080/",
          "height": 358
        },
        "id": "i2kG5qoVdVli",
        "outputId": "bfb34fcc-aee9-4b40-b2da-7be1277e56c2"
      },
      "id": "i2kG5qoVdVli",
      "execution_count": null,
      "outputs": [
        {
          "output_type": "display_data",
          "data": {
            "text/plain": [
              "<Figure size 576x360 with 1 Axes>"
            ],
            "image/png": "[encoded data removed]"
          },
          "metadata": {}
        }
      ]
    },
    {
      "cell_type": "code",
      "source": [
        "sns.set(style=\"darkgrid\")\n",
        "pd.crosstab(df.fbs, df.condition).plot(kind=\"bar\", figsize=(6,5), color=[\"#FFC300\", \"#581845\"], ax=plt.gca())\n",
        "plt.title(\"Açlık Kan Şekerine göre Kalp Hastalığı Sıklığı\",fontsize=15)\n",
        "plt.legend([\"Kalp Hastalığı Yok\", \"Kalp Hastalığı Var\"])\n",
        "plt.xlabel(\"AKŞ - (Açlık Kan Şekeri > 120 mg/dl)\",fontsize=12)\n",
        "plt.gca().set_xticklabels(labels=[\"Evet\", \"Hayır\"])\n",
        "plt.xticks(rotation=0)\n",
        "plt.ylabel(\"Hasta yada Hasta olmama Sıklığı\",fontsize=12)\n",
        "plt.show()"
      ],
      "metadata": {
        "colab": {
          "base_uri": "https://localhost:8080/",
          "height": 358
        },
        "id": "eHofqdQEeif-",
        "outputId": "fef73e3e-2b3c-426a-d415-4fe617be1fa2"
      },
      "id": "eHofqdQEeif-",
      "execution_count": null,
      "outputs": [
        {
          "output_type": "display_data",
          "data": {
            "text/plain": [
              "<Figure size 432x360 with 1 Axes>"
            ],
            "image/png": "[encoded data removed]"
          },
          "metadata": {}
        }
      ]
    },
    {
      "cell_type": "code",
      "source": [
        "sns.set(style=\"darkgrid\")\n",
        "pd.crosstab(df.cp, df.condition).plot(kind=\"bar\", figsize=(10, 5), color=[\"#FF82AB\", \"#581845\"], ax=plt.gca())\n",
        "plt.title(\"Göğüs Ağrısına Göre Kalp Hastalığı Sıklığı\",fontsize=15)\n",
        "plt.legend([\"Kalp Hastalığı Yok\", \"Kalp Hastalığı Var\"])\n",
        "plt.xlabel(\"Göğüs Ağrısı\",fontsize=12)\n",
        "plt.gca().set_xticklabels(\n",
        "    labels=[\"Asemptomatik\",\"Atipik Anjina\",\"Anjina olmayan Ağrı\",\"Tipik Anjina\"]\n",
        ")\n",
        "plt.xticks(rotation=0)\n",
        "plt.ylabel(\"Hasta yada Hasta olmama Sıklığıta\",fontsize=12)\n",
        "plt.show()"
      ],
      "metadata": {
        "colab": {
          "base_uri": "https://localhost:8080/",
          "height": 359
        },
        "id": "yuajcl9EfVCc",
        "outputId": "6ee7ca10-fd45-4624-c116-007a54bcb2a6"
      },
      "id": "yuajcl9EfVCc",
      "execution_count": null,
      "outputs": [
        {
          "output_type": "display_data",
          "data": {
            "text/plain": [
              "<Figure size 720x360 with 1 Axes>"
            ],
            "image/png": "[encoded data removed]"
          },
          "metadata": {}
        }
      ]
    },
    {
      "cell_type": "code",
      "source": [
        "sns.set(style=\"darkgrid\")\n",
        "plt.figure(figsize=(12,6))\n",
        "\n",
        "plt.scatter(df.age[df.condition=='Evet'], df.chol[df.condition=='Evet'],color='#A569DA')\n",
        "plt.scatter(df.age[df.condition=='Hayır'], df.chol[df.condition=='Hayır'],color='#FCCC49')\n",
        "\n",
        "plt.title('Yaş vs Kolesterol',fontsize=15)\n",
        "plt.xlabel('Yaş',fontsize=12)\n",
        "plt.ylabel('Kolesterol',fontsize=12)\n",
        "plt.legend(['Hasta','Hasta Değil']);"
      ],
      "metadata": {
        "colab": {
          "base_uri": "https://localhost:8080/",
          "height": 412
        },
        "id": "0rlXzfG0gTb1",
        "outputId": "612eb598-e1f2-4196-99c7-e5ce84577445"
      },
      "id": "0rlXzfG0gTb1",
      "execution_count": null,
      "outputs": [
        {
          "output_type": "display_data",
          "data": {
            "text/plain": [
              "<Figure size 864x432 with 1 Axes>"
            ],
            "image/png": "[encoded data removed]"
          },
          "metadata": {}
        }
      ]
    },
    {
      "cell_type": "code",
      "source": [
        "sns.set(style=\"darkgrid\")\n",
        "pd.crosstab(df.age, df.condition).plot(kind=\"bar\", figsize=(20, 6), ax=plt.gca())\n",
        "plt.title(\"Kalp Hastalığı vs Yaş\",fontsize=20)\n",
        "plt.legend([\"Kalp Hastalığı Var\", \"Kalp Hastalığı Yok\"])\n",
        "plt.xlabel(\"Yaş\",fontsize=15)\n",
        "plt.ylabel(\"Sıklık\",fontsize=15)\n",
        "plt.show()"
      ],
      "metadata": {
        "colab": {
          "base_uri": "https://localhost:8080/",
          "height": 421
        },
        "id": "GS5CbmqeiP1T",
        "outputId": "ff198b3a-2d01-43ca-f992-7ff9336f97ce"
      },
      "id": "GS5CbmqeiP1T",
      "execution_count": null,
      "outputs": [
        {
          "output_type": "display_data",
          "data": {
            "text/plain": [
              "<Figure size 1440x432 with 1 Axes>"
            ],
            "image/png": "[encoded data removed]"
          },
          "metadata": {}
        }
      ]
    },
    {
      "cell_type": "markdown",
      "source": [
        "**Hastanın yaşı arttıkça kalp hastalığına yakalanma olasılığı da artmaktadır.**"
      ],
      "metadata": {
        "id": "dGJvYJE6izQ_"
      },
      "id": "dGJvYJE6izQ_"
    },
    {
      "cell_type": "markdown",
      "source": [
        "**Model Eğitimi**"
      ],
      "metadata": {
        "id": "cADI8XMs2BWC"
      },
      "id": "cADI8XMs2BWC"
    },
    {
      "cell_type": "markdown",
      "source": [
        "Lojistik Regrasyon"
      ],
      "metadata": {
        "id": "_aUdJSk92HcG"
      },
      "id": "_aUdJSk92HcG"
    },
    {
      "cell_type": "code",
      "source": [
        "accuracies = {}\n",
        "\n",
        "model = LogisticRegression()"
      ],
      "metadata": {
        "id": "fHfY-NFv2KA5"
      },
      "id": "fHfY-NFv2KA5",
      "execution_count": null,
      "outputs": []
    },
    {
      "cell_type": "code",
      "source": [
        "# Lojistik Regrasyon modelinin Train Data ile eğitilmesi\n",
        "model.fit(X_train, Y_train)"
      ],
      "metadata": {
        "colab": {
          "base_uri": "https://localhost:8080/"
        },
        "id": "z6LYZ7042dxa",
        "outputId": "4711a7d9-289f-4d3f-e6ab-ede31b6db52d"
      },
      "id": "z6LYZ7042dxa",
      "execution_count": null,
      "outputs": [
        {
          "output_type": "execute_result",
          "data": {
            "text/plain": [
              "LogisticRegression()"
            ]
          },
          "metadata": {},
          "execution_count": 16
        }
      ]
    },
    {
      "cell_type": "code",
      "source": [
        "y_train_pred = model.predict(X_train)\n",
        "y_test_pred = model.predict(X_test)\n",
        "\n",
        "acc = model.score(X_test, Y_test) * 100\n",
        "accuracies[\"Lojistik Regrasyon\"] = acc"
      ],
      "metadata": {
        "id": "1a1kcuGFLVZd"
      },
      "id": "1a1kcuGFLVZd",
      "execution_count": null,
      "outputs": []
    },
    {
      "cell_type": "code",
      "source": [
        "print(classification_report(y_train_pred, Y_train))"
      ],
      "metadata": {
        "colab": {
          "base_uri": "https://localhost:8080/"
        },
        "id": "I1ApLEtGMMXZ",
        "outputId": "4ccf25a5-8c4a-40e8-a8dd-318f44d9d936"
      },
      "id": "I1ApLEtGMMXZ",
      "execution_count": null,
      "outputs": [
        {
          "output_type": "stream",
          "name": "stdout",
          "text": [
            "              precision    recall  f1-score   support\n",
            "\n",
            "           0       0.91      0.84      0.87       140\n",
            "           1       0.79      0.89      0.83        97\n",
            "\n",
            "    accuracy                           0.86       237\n",
            "   macro avg       0.85      0.86      0.85       237\n",
            "weighted avg       0.86      0.86      0.86       237\n",
            "\n"
          ]
        }
      ]
    },
    {
      "cell_type": "code",
      "source": [
        "print(classification_report(y_test_pred,Y_test))"
      ],
      "metadata": {
        "colab": {
          "base_uri": "https://localhost:8080/"
        },
        "id": "fLWkdLVcMefM",
        "outputId": "b46a39d4-2dc2-4f6a-a087-61408daca000"
      },
      "id": "fLWkdLVcMefM",
      "execution_count": null,
      "outputs": [
        {
          "output_type": "stream",
          "name": "stdout",
          "text": [
            "              precision    recall  f1-score   support\n",
            "\n",
            "           0       0.94      0.88      0.91        34\n",
            "           1       0.86      0.92      0.89        26\n",
            "\n",
            "    accuracy                           0.90        60\n",
            "   macro avg       0.90      0.90      0.90        60\n",
            "weighted avg       0.90      0.90      0.90        60\n",
            "\n"
          ]
        }
      ]
    },
    {
      "cell_type": "code",
      "source": [
        "sns.set(style=\"ticks\")\n",
        "from sklearn.metrics import ConfusionMatrixDisplay\n",
        "ConfusionMatrixDisplay.from_estimator(model, X_test, Y_test)\n",
        "plt.show()"
      ],
      "metadata": {
        "colab": {
          "base_uri": "https://localhost:8080/",
          "height": 289
        },
        "id": "GB5wrJ9XMmnP",
        "outputId": "0d0c6298-b5df-4f50-e364-1df6a7ccad03"
      },
      "id": "GB5wrJ9XMmnP",
      "execution_count": null,
      "outputs": [
        {
          "output_type": "display_data",
          "data": {
            "text/plain": [
              "<Figure size 432x288 with 2 Axes>"
            ],
            "image/png": "[encoded data removed]"
          },
          "metadata": {}
        }
      ]
    },
    {
      "cell_type": "markdown",
      "source": [
        "**Model Değerlendirmesi**"
      ],
      "metadata": {
        "id": "E3zeUWs45rCB"
      },
      "id": "E3zeUWs45rCB"
    },
    {
      "cell_type": "markdown",
      "source": [
        "Accuracy Sonucu"
      ],
      "metadata": {
        "id": "B-d727G45zUg"
      },
      "id": "B-d727G45zUg"
    },
    {
      "cell_type": "code",
      "source": [
        "X_train_prediction = model.predict(X_train)\n",
        "training_data_accuracy = accuracy_score(X_train_prediction, Y_train)"
      ],
      "metadata": {
        "id": "GiRu32Mi54l6"
      },
      "id": "GiRu32Mi54l6",
      "execution_count": null,
      "outputs": []
    },
    {
      "cell_type": "code",
      "source": [
        "print('Training Datası Accuracy Sonucu : ', training_data_accuracy)"
      ],
      "metadata": {
        "colab": {
          "base_uri": "https://localhost:8080/"
        },
        "id": "jKiQIEL659Gq",
        "outputId": "a186e240-2518-4e6e-f8b8-06a1f9ecdf9b"
      },
      "id": "jKiQIEL659Gq",
      "execution_count": null,
      "outputs": [
        {
          "output_type": "stream",
          "name": "stdout",
          "text": [
            "Training Datası Accuracy Sonucu :  0.8565400843881856\n"
          ]
        }
      ]
    },
    {
      "cell_type": "code",
      "source": [
        "# Test Datası için Accuracy \n",
        "X_test_prediction = model.predict(X_test)\n",
        "test_data_accuracy = accuracy_score(X_test_prediction, Y_test)"
      ],
      "metadata": {
        "id": "gELM-Wfo6IZx"
      },
      "id": "gELM-Wfo6IZx",
      "execution_count": null,
      "outputs": []
    },
    {
      "cell_type": "code",
      "source": [
        "print('Test Datası Accuracy Sonucu : ', test_data_accuracy)"
      ],
      "metadata": {
        "colab": {
          "base_uri": "https://localhost:8080/"
        },
        "id": "Y7qW8Mk56S-Q",
        "outputId": "19f85d7a-5385-4786-ae74-67697b2b2e5e"
      },
      "id": "Y7qW8Mk56S-Q",
      "execution_count": null,
      "outputs": [
        {
          "output_type": "stream",
          "name": "stdout",
          "text": [
            "Test Datası Accuracy Sonucu :  0.9\n"
          ]
        }
      ]
    },
    {
      "cell_type": "markdown",
      "source": [
        "**Tahmin Sistemi Oluşturma**"
      ],
      "metadata": {
        "id": "7mqSHJc66lb6"
      },
      "id": "7mqSHJc66lb6"
    },
    {
      "cell_type": "code",
      "source": [
        "input_data = (62,0,0,140,268,0,0,160,0,3.6,0,2,2)\n",
        "\n",
        "# input verilerini numpy dizisiyle değiştir\n",
        "input_data_as_numpy_array= np.asarray(input_data)\n",
        "\n",
        "# numpy dizisini yalnızca örnek için tahmin ettiğimiz gibi yeniden şekillendir\n",
        "input_data_reshaped = input_data_as_numpy_array.reshape(1,-1)\n",
        "\n",
        "prediction = model.predict(input_data_reshaped)\n",
        "print(prediction)\n",
        "\n",
        "if (prediction[0]== 0):\n",
        "  print('Bu kişi kalp hastası değildir.')\n",
        "else:\n",
        "  print('Bu kişi kalp hastasıdır.')"
      ],
      "metadata": {
        "colab": {
          "base_uri": "https://localhost:8080/"
        },
        "id": "HJB7YF0m6pib",
        "outputId": "113f7373-580d-41ff-b0ac-c1217786379b"
      },
      "id": "HJB7YF0m6pib",
      "execution_count": null,
      "outputs": [
        {
          "output_type": "stream",
          "name": "stdout",
          "text": [
            "[1]\n",
            "Bu kişi kalp hastasıdır.\n"
          ]
        }
      ]
    },
    {
      "cell_type": "code",
      "execution_count": null,
      "id": "2815b7ee",
      "metadata": {
        "colab": {
          "base_uri": "https://localhost:8080/",
          "height": 303
        },
        "id": "2815b7ee",
        "outputId": "fc5cc441-d615-42d1-857a-8c6f1ecc6a17"
      },
      "outputs": [
        {
          "output_type": "execute_result",
          "data": {
            "text/plain": [
              "<matplotlib.axes._subplots.AxesSubplot at 0x7faafa406e80>"
            ]
          },
          "metadata": {},
          "execution_count": 27
        },
        {
          "output_type": "display_data",
          "data": {
            "text/plain": [
              "<Figure size 432x288 with 1 Axes>"
            ],
            "image/png": "[encoded data removed]"
          },
          "metadata": {}
        }
      ],
      "source": [
        "sns.countplot(x='condition', data=df)"
      ]
    },
    {
      "cell_type": "code",
      "execution_count": null,
      "id": "fd4fe558",
      "metadata": {
        "scrolled": false,
        "colab": {
          "base_uri": "https://localhost:8080/",
          "height": 488
        },
        "id": "fd4fe558",
        "outputId": "9f79e60b-c151-44c4-b890-8f6f66d437ec"
      },
      "outputs": [
        {
          "output_type": "execute_result",
          "data": {
            "text/plain": [
              "                age       sex        cp  trestbps      chol       fbs  \\\n",
              "age        1.000000 -0.092399  0.110471  0.290476  0.202644  0.132062   \n",
              "sex       -0.092399  1.000000  0.008908 -0.066340 -0.198089  0.038850   \n",
              "cp         0.110471  0.008908  1.000000 -0.036980  0.072088 -0.057663   \n",
              "trestbps   0.290476 -0.066340 -0.036980  1.000000  0.131536  0.180860   \n",
              "chol       0.202644 -0.198089  0.072088  0.131536  1.000000  0.012708   \n",
              "fbs        0.132062  0.038850 -0.057663  0.180860  0.012708  1.000000   \n",
              "restecg    0.149917  0.033897  0.063905  0.149242  0.165046  0.068831   \n",
              "thalach   -0.394563 -0.060496 -0.339308 -0.049108 -0.000075 -0.007842   \n",
              "exang      0.096489  0.143581  0.377525  0.066691  0.059339 -0.000893   \n",
              "oldpeak    0.197123  0.106567  0.203244  0.191243  0.038596  0.008311   \n",
              "slope      0.159405  0.033345  0.151079  0.121172 -0.009215  0.047819   \n",
              "ca         0.362210  0.091925  0.235644  0.097954  0.115945  0.152086   \n",
              "thal       0.120795  0.370556  0.266275  0.130612  0.023441  0.051038   \n",
              "condition  0.227075  0.278467  0.408945  0.153490  0.080285  0.003167   \n",
              "\n",
              "            restecg   thalach     exang   oldpeak     slope        ca  \\\n",
              "age        0.149917 -0.394563  0.096489  0.197123  0.159405  0.362210   \n",
              "sex        0.033897 -0.060496  0.143581  0.106567  0.033345  0.091925   \n",
              "cp         0.063905 -0.339308  0.377525  0.203244  0.151079  0.235644   \n",
              "trestbps   0.149242 -0.049108  0.066691  0.191243  0.121172  0.097954   \n",
              "chol       0.165046 -0.000075  0.059339  0.038596 -0.009215  0.115945   \n",
              "fbs        0.068831 -0.007842 -0.000893  0.008311  0.047819  0.152086   \n",
              "restecg    1.000000 -0.072290  0.081874  0.113726  0.135141  0.129021   \n",
              "thalach   -0.072290  1.000000 -0.384368 -0.347640 -0.389307 -0.268727   \n",
              "exang      0.081874 -0.384368  1.000000  0.289310  0.250572  0.148232   \n",
              "oldpeak    0.113726 -0.347640  0.289310  1.000000  0.579037  0.294452   \n",
              "slope      0.135141 -0.389307  0.250572  0.579037  1.000000  0.109761   \n",
              "ca         0.129021 -0.268727  0.148232  0.294452  0.109761  1.000000   \n",
              "thal       0.013612 -0.258386  0.323268  0.336809  0.260096  0.248825   \n",
              "condition  0.166343 -0.423817  0.421355  0.424052  0.333049  0.463189   \n",
              "\n",
              "               thal  condition  \n",
              "age        0.120795   0.227075  \n",
              "sex        0.370556   0.278467  \n",
              "cp         0.266275   0.408945  \n",
              "trestbps   0.130612   0.153490  \n",
              "chol       0.023441   0.080285  \n",
              "fbs        0.051038   0.003167  \n",
              "restecg    0.013612   0.166343  \n",
              "thalach   -0.258386  -0.423817  \n",
              "exang      0.323268   0.421355  \n",
              "oldpeak    0.336809   0.424052  \n",
              "slope      0.260096   0.333049  \n",
              "ca         0.248825   0.463189  \n",
              "thal       1.000000   0.520516  \n",
              "condition  0.520516   1.000000  "
            ],
            "text/html": [
              "\n",
              "  <div id=\"df-63d02a9f-26e7-463e-bb33-95b80f04d7a7\">\n",
              "    <div class=\"colab-df-container\">\n",
              "      <div>\n",
              "<style scoped>\n",
              "    .dataframe tbody tr th:only-of-type {\n",
              "        vertical-align: middle;\n",
              "    }\n",
              "\n",
              "    .dataframe tbody tr th {\n",
              "        vertical-align: top;\n",
              "    }\n",
              "\n",
              "    .dataframe thead th {\n",
              "        text-align: right;\n",
              "    }\n",
              "</style>\n",
              "<table border=\"1\" class=\"dataframe\">\n",
              "  <thead>\n",
              "    <tr style=\"text-align: right;\">\n",
              "      <th></th>\n",
              "      <th>age</th>\n",
              "      <th>sex</th>\n",
              "      <th>cp</th>\n",
              "      <th>trestbps</th>\n",
              "      <th>chol</th>\n",
              "      <th>fbs</th>\n",
              "      <th>restecg</th>\n",
              "      <th>thalach</th>\n",
              "      <th>exang</th>\n",
              "      <th>oldpeak</th>\n",
              "      <th>slope</th>\n",
              "      <th>ca</th>\n",
              "      <th>thal</th>\n",
              "      <th>condition</th>\n",
              "    </tr>\n",
              "  </thead>\n",
              "  <tbody>\n",
              "    <tr>\n",
              "      <th>age</th>\n",
              "      <td>1.000000</td>\n",
              "      <td>-0.092399</td>\n",
              "      <td>0.110471</td>\n",
              "      <td>0.290476</td>\n",
              "      <td>0.202644</td>\n",
              "      <td>0.132062</td>\n",
              "      <td>0.149917</td>\n",
              "      <td>-0.394563</td>\n",
              "      <td>0.096489</td>\n",
              "      <td>0.197123</td>\n",
              "      <td>0.159405</td>\n",
              "      <td>0.362210</td>\n",
              "      <td>0.120795</td>\n",
              "      <td>0.227075</td>\n",
              "    </tr>\n",
              "    <tr>\n",
              "      <th>sex</th>\n",
              "      <td>-0.092399</td>\n",
              "      <td>1.000000</td>\n",
              "      <td>0.008908</td>\n",
              "      <td>-0.066340</td>\n",
              "      <td>-0.198089</td>\n",
              "      <td>0.038850</td>\n",
              "      <td>0.033897</td>\n",
              "      <td>-0.060496</td>\n",
              "      <td>0.143581</td>\n",
              "      <td>0.106567</td>\n",
              "      <td>0.033345</td>\n",
              "      <td>0.091925</td>\n",
              "      <td>0.370556</td>\n",
              "      <td>0.278467</td>\n",
              "    </tr>\n",
              "    <tr>\n",
              "      <th>cp</th>\n",
              "      <td>0.110471</td>\n",
              "      <td>0.008908</td>\n",
              "      <td>1.000000</td>\n",
              "      <td>-0.036980</td>\n",
              "      <td>0.072088</td>\n",
              "      <td>-0.057663</td>\n",
              "      <td>0.063905</td>\n",
              "      <td>-0.339308</td>\n",
              "      <td>0.377525</td>\n",
              "      <td>0.203244</td>\n",
              "      <td>0.151079</td>\n",
              "      <td>0.235644</td>\n",
              "      <td>0.266275</td>\n",
              "      <td>0.408945</td>\n",
              "    </tr>\n",
              "    <tr>\n",
              "      <th>trestbps</th>\n",
              "      <td>0.290476</td>\n",
              "      <td>-0.066340</td>\n",
              "      <td>-0.036980</td>\n",
              "      <td>1.000000</td>\n",
              "      <td>0.131536</td>\n",
              "      <td>0.180860</td>\n",
              "      <td>0.149242</td>\n",
              "      <td>-0.049108</td>\n",
              "      <td>0.066691</td>\n",
              "      <td>0.191243</td>\n",
              "      <td>0.121172</td>\n",
              "      <td>0.097954</td>\n",
              "      <td>0.130612</td>\n",
              "      <td>0.153490</td>\n",
              "    </tr>\n",
              "    <tr>\n",
              "      <th>chol</th>\n",
              "      <td>0.202644</td>\n",
              "      <td>-0.198089</td>\n",
              "      <td>0.072088</td>\n",
              "      <td>0.131536</td>\n",
              "      <td>1.000000</td>\n",
              "      <td>0.012708</td>\n",
              "      <td>0.165046</td>\n",
              "      <td>-0.000075</td>\n",
              "      <td>0.059339</td>\n",
              "      <td>0.038596</td>\n",
              "      <td>-0.009215</td>\n",
              "      <td>0.115945</td>\n",
              "      <td>0.023441</td>\n",
              "      <td>0.080285</td>\n",
              "    </tr>\n",
              "    <tr>\n",
              "      <th>fbs</th>\n",
              "      <td>0.132062</td>\n",
              "      <td>0.038850</td>\n",
              "      <td>-0.057663</td>\n",
              "      <td>0.180860</td>\n",
              "      <td>0.012708</td>\n",
              "      <td>1.000000</td>\n",
              "      <td>0.068831</td>\n",
              "      <td>-0.007842</td>\n",
              "      <td>-0.000893</td>\n",
              "      <td>0.008311</td>\n",
              "      <td>0.047819</td>\n",
              "      <td>0.152086</td>\n",
              "      <td>0.051038</td>\n",
              "      <td>0.003167</td>\n",
              "    </tr>\n",
              "    <tr>\n",
              "      <th>restecg</th>\n",
              "      <td>0.149917</td>\n",
              "      <td>0.033897</td>\n",
              "      <td>0.063905</td>\n",
              "      <td>0.149242</td>\n",
              "      <td>0.165046</td>\n",
              "      <td>0.068831</td>\n",
              "      <td>1.000000</td>\n",
              "      <td>-0.072290</td>\n",
              "      <td>0.081874</td>\n",
              "      <td>0.113726</td>\n",
              "      <td>0.135141</td>\n",
              "      <td>0.129021</td>\n",
              "      <td>0.013612</td>\n",
              "      <td>0.166343</td>\n",
              "    </tr>\n",
              "    <tr>\n",
              "      <th>thalach</th>\n",
              "      <td>-0.394563</td>\n",
              "      <td>-0.060496</td>\n",
              "      <td>-0.339308</td>\n",
              "      <td>-0.049108</td>\n",
              "      <td>-0.000075</td>\n",
              "      <td>-0.007842</td>\n",
              "      <td>-0.072290</td>\n",
              "      <td>1.000000</td>\n",
              "      <td>-0.384368</td>\n",
              "      <td>-0.347640</td>\n",
              "      <td>-0.389307</td>\n",
              "      <td>-0.268727</td>\n",
              "      <td>-0.258386</td>\n",
              "      <td>-0.423817</td>\n",
              "    </tr>\n",
              "    <tr>\n",
              "      <th>exang</th>\n",
              "      <td>0.096489</td>\n",
              "      <td>0.143581</td>\n",
              "      <td>0.377525</td>\n",
              "      <td>0.066691</td>\n",
              "      <td>0.059339</td>\n",
              "      <td>-0.000893</td>\n",
              "      <td>0.081874</td>\n",
              "      <td>-0.384368</td>\n",
              "      <td>1.000000</td>\n",
              "      <td>0.289310</td>\n",
              "      <td>0.250572</td>\n",
              "      <td>0.148232</td>\n",
              "      <td>0.323268</td>\n",
              "      <td>0.421355</td>\n",
              "    </tr>\n",
              "    <tr>\n",
              "      <th>oldpeak</th>\n",
              "      <td>0.197123</td>\n",
              "      <td>0.106567</td>\n",
              "      <td>0.203244</td>\n",
              "      <td>0.191243</td>\n",
              "      <td>0.038596</td>\n",
              "      <td>0.008311</td>\n",
              "      <td>0.113726</td>\n",
              "      <td>-0.347640</td>\n",
              "      <td>0.289310</td>\n",
              "      <td>1.000000</td>\n",
              "      <td>0.579037</td>\n",
              "      <td>0.294452</td>\n",
              "      <td>0.336809</td>\n",
              "      <td>0.424052</td>\n",
              "    </tr>\n",
              "    <tr>\n",
              "      <th>slope</th>\n",
              "      <td>0.159405</td>\n",
              "      <td>0.033345</td>\n",
              "      <td>0.151079</td>\n",
              "      <td>0.121172</td>\n",
              "      <td>-0.009215</td>\n",
              "      <td>0.047819</td>\n",
              "      <td>0.135141</td>\n",
              "      <td>-0.389307</td>\n",
              "      <td>0.250572</td>\n",
              "      <td>0.579037</td>\n",
              "      <td>1.000000</td>\n",
              "      <td>0.109761</td>\n",
              "      <td>0.260096</td>\n",
              "      <td>0.333049</td>\n",
              "    </tr>\n",
              "    <tr>\n",
              "      <th>ca</th>\n",
              "      <td>0.362210</td>\n",
              "      <td>0.091925</td>\n",
              "      <td>0.235644</td>\n",
              "      <td>0.097954</td>\n",
              "      <td>0.115945</td>\n",
              "      <td>0.152086</td>\n",
              "      <td>0.129021</td>\n",
              "      <td>-0.268727</td>\n",
              "      <td>0.148232</td>\n",
              "      <td>0.294452</td>\n",
              "      <td>0.109761</td>\n",
              "      <td>1.000000</td>\n",
              "      <td>0.248825</td>\n",
              "      <td>0.463189</td>\n",
              "    </tr>\n",
              "    <tr>\n",
              "      <th>thal</th>\n",
              "      <td>0.120795</td>\n",
              "      <td>0.370556</td>\n",
              "      <td>0.266275</td>\n",
              "      <td>0.130612</td>\n",
              "      <td>0.023441</td>\n",
              "      <td>0.051038</td>\n",
              "      <td>0.013612</td>\n",
              "      <td>-0.258386</td>\n",
              "      <td>0.323268</td>\n",
              "      <td>0.336809</td>\n",
              "      <td>0.260096</td>\n",
              "      <td>0.248825</td>\n",
              "      <td>1.000000</td>\n",
              "      <td>0.520516</td>\n",
              "    </tr>\n",
              "    <tr>\n",
              "      <th>condition</th>\n",
              "      <td>0.227075</td>\n",
              "      <td>0.278467</td>\n",
              "      <td>0.408945</td>\n",
              "      <td>0.153490</td>\n",
              "      <td>0.080285</td>\n",
              "      <td>0.003167</td>\n",
              "      <td>0.166343</td>\n",
              "      <td>-0.423817</td>\n",
              "      <td>0.421355</td>\n",
              "      <td>0.424052</td>\n",
              "      <td>0.333049</td>\n",
              "      <td>0.463189</td>\n",
              "      <td>0.520516</td>\n",
              "      <td>1.000000</td>\n",
              "    </tr>\n",
              "  </tbody>\n",
              "</table>\n",
              "</div>\n",
              "      <button class=\"colab-df-convert\" onclick=\"convertToInteractive('df-63d02a9f-26e7-463e-bb33-95b80f04d7a7')\"\n",
              "              title=\"Convert this dataframe to an interactive table.\"\n",
              "              style=\"display:none;\">\n",
              "        \n",
              "  <svg xmlns=\"http://www.w3.org/2000/svg\" height=\"24px\"viewBox=\"0 0 24 24\"\n",
              "       width=\"24px\">\n",
              "    <path d=\"M0 0h24v24H0V0z\" fill=\"none\"/>\n",
              "    <path d=\"M18.56 5.44l.94 2.06.94-2.06 2.06-.94-2.06-.94-.94-2.06-.94 2.06-2.06.94zm-11 1L8.5 8.5l.94-2.06 2.06-.94-2.06-.94L8.5 2.5l-.94 2.06-2.06.94zm10 10l.94 2.06.94-2.06 2.06-.94-2.06-.94-.94-2.06-.94 2.06-2.06.94z\"/><path d=\"M17.41 7.96l-1.37-1.37c-.4-.4-.92-.59-1.43-.59-.52 0-1.04.2-1.43.59L10.3 9.45l-7.72 7.72c-.78.78-.78 2.05 0 2.83L4 21.41c.39.39.9.59 1.41.59.51 0 1.02-.2 1.41-.59l7.78-7.78 2.81-2.81c.8-.78.8-2.07 0-2.86zM5.41 20L4 18.59l7.72-7.72 1.47 1.35L5.41 20z\"/>\n",
              "  </svg>\n",
              "      </button>\n",
              "      \n",
              "  <style>\n",
              "    .colab-df-container {\n",
              "      display:flex;\n",
              "      flex-wrap:wrap;\n",
              "      gap: 12px;\n",
              "    }\n",
              "\n",
              "    .colab-df-convert {\n",
              "      background-color: #E8F0FE;\n",
              "      border: none;\n",
              "      border-radius: 50%;\n",
              "      cursor: pointer;\n",
              "      display: none;\n",
              "      fill: #1967D2;\n",
              "      height: 32px;\n",
              "      padding: 0 0 0 0;\n",
              "      width: 32px;\n",
              "    }\n",
              "\n",
              "    .colab-df-convert:hover {\n",
              "      background-color: #E2EBFA;\n",
              "      box-shadow: 0px 1px 2px rgba(60, 64, 67, 0.3), 0px 1px 3px 1px rgba(60, 64, 67, 0.15);\n",
              "      fill: #174EA6;\n",
              "    }\n",
              "\n",
              "    [theme=dark] .colab-df-convert {\n",
              "      background-color: #3B4455;\n",
              "      fill: #D2E3FC;\n",
              "    }\n",
              "\n",
              "    [theme=dark] .colab-df-convert:hover {\n",
              "      background-color: #434B5C;\n",
              "      box-shadow: 0px 1px 3px 1px rgba(0, 0, 0, 0.15);\n",
              "      filter: drop-shadow(0px 1px 2px rgba(0, 0, 0, 0.3));\n",
              "      fill: #FFFFFF;\n",
              "    }\n",
              "  </style>\n",
              "\n",
              "      <script>\n",
              "        const buttonEl =\n",
              "          document.querySelector('#df-63d02a9f-26e7-463e-bb33-95b80f04d7a7 button.colab-df-convert');\n",
              "        buttonEl.style.display =\n",
              "          google.colab.kernel.accessAllowed ? 'block' : 'none';\n",
              "\n",
              "        async function convertToInteractive(key) {\n",
              "          const element = document.querySelector('#df-63d02a9f-26e7-463e-bb33-95b80f04d7a7');\n",
              "          const dataTable =\n",
              "            await google.colab.kernel.invokeFunction('convertToInteractive',\n",
              "                                                     [key], {});\n",
              "          if (!dataTable) return;\n",
              "\n",
              "          const docLinkHtml = 'Like what you see? Visit the ' +\n",
              "            '<a target=\"_blank\" href=https://colab.research.google.com/notebooks/data_table.ipynb>data table notebook</a>'\n",
              "            + ' to learn more about interactive tables.';\n",
              "          element.innerHTML = '';\n",
              "          dataTable['output_type'] = 'display_data';\n",
              "          await google.colab.output.renderOutput(dataTable, element);\n",
              "          const docLink = document.createElement('div');\n",
              "          docLink.innerHTML = docLinkHtml;\n",
              "          element.appendChild(docLink);\n",
              "        }\n",
              "      </script>\n",
              "    </div>\n",
              "  </div>\n",
              "  "
            ]
          },
          "metadata": {},
          "execution_count": 28
        }
      ],
      "source": [
        "# Korelasyon kontrol\n",
        "df.corr()"
      ]
    },
    {
      "cell_type": "markdown",
      "id": "167075a7",
      "metadata": {
        "id": "167075a7"
      },
      "source": [
        "KNN Algoritması"
      ]
    },
    {
      "cell_type": "code",
      "source": [
        "knn = KNeighborsClassifier(n_neighbors=2) \n",
        "knn.fit(X_train, Y_train)\n",
        "y_train_pred1 = knn.predict(X_train)\n",
        "y_test_pred1 = knn.predict(X_test)"
      ],
      "metadata": {
        "id": "mdz_xwyJKUfd"
      },
      "id": "mdz_xwyJKUfd",
      "execution_count": null,
      "outputs": []
    },
    {
      "cell_type": "code",
      "source": [
        "y_train_pred1 = knn.predict(X_train)\n",
        "y_test_pred1 = knn.predict(X_test)\n",
        "\n",
        "print(classification_report(y_train_pred1, Y_train))"
      ],
      "metadata": {
        "colab": {
          "base_uri": "https://localhost:8080/"
        },
        "id": "UccsEvLtIcQZ",
        "outputId": "6b071dda-4ce2-4c74-e608-23f91e696a15"
      },
      "id": "UccsEvLtIcQZ",
      "execution_count": null,
      "outputs": [
        {
          "output_type": "stream",
          "name": "stdout",
          "text": [
            "              precision    recall  f1-score   support\n",
            "\n",
            "           0       1.00      0.70      0.82       183\n",
            "           1       0.50      1.00      0.66        54\n",
            "\n",
            "    accuracy                           0.77       237\n",
            "   macro avg       0.75      0.85      0.74       237\n",
            "weighted avg       0.89      0.77      0.79       237\n",
            "\n"
          ]
        }
      ]
    },
    {
      "cell_type": "code",
      "source": [
        "print(classification_report(y_test_pred1,Y_test))"
      ],
      "metadata": {
        "colab": {
          "base_uri": "https://localhost:8080/"
        },
        "id": "Bi3m4H4KJxNE",
        "outputId": "b4213a12-218e-4638-918c-2f2b17adb925"
      },
      "id": "Bi3m4H4KJxNE",
      "execution_count": null,
      "outputs": [
        {
          "output_type": "stream",
          "name": "stdout",
          "text": [
            "              precision    recall  f1-score   support\n",
            "\n",
            "           0       0.81      0.59      0.68        44\n",
            "           1       0.36      0.62      0.45        16\n",
            "\n",
            "    accuracy                           0.60        60\n",
            "   macro avg       0.58      0.61      0.57        60\n",
            "weighted avg       0.69      0.60      0.62        60\n",
            "\n"
          ]
        }
      ]
    },
    {
      "cell_type": "code",
      "source": [
        "# En iyi k değeri\n",
        "scoreList = []\n",
        "for i in range(1, 20):\n",
        "    knn1 = KNeighborsClassifier(n_neighbors=i)  # n_neighbors = k\n",
        "    knn1.fit(X_train, Y_train)\n",
        "    scoreList.append(knn1.score(X_test, Y_test))\n",
        "\n",
        "plt.figure(dpi=80)\n",
        "plt.plot(range(1, 20), scoreList,color = 'blue',linestyle='dashed', \n",
        "         marker='o',markerfacecolor='red', markersize=10)\n",
        "plt.xticks(np.arange(1, 20, 1))\n",
        "plt.title(\"Yinelemeli olarak k'nin en iyi değeri\")\n",
        "plt.xlabel(\"K Değeri\")\n",
        "plt.ylabel(\"Skor\")\n",
        "plt.show()\n",
        "\n",
        "acc = max(scoreList) * 100\n",
        "accuracies[\"KNN\"] = acc\n",
        "print(\"Maksimum KNN Test Accuracy {:.2f}%\".format(acc),\" K =\",scoreList.index(max(scoreList))+1)"
      ],
      "metadata": {
        "colab": {
          "base_uri": "https://localhost:8080/",
          "height": 350
        },
        "id": "6N0RKE07Kegj",
        "outputId": "d23dfda9-49d2-4c5e-bb89-be7531e2ff51"
      },
      "id": "6N0RKE07Kegj",
      "execution_count": null,
      "outputs": [
        {
          "output_type": "display_data",
          "data": {
            "text/plain": [
              "<Figure size 480x320 with 1 Axes>"
            ],
            "image/png": "[encoded data removed]"
          },
          "metadata": {}
        },
        {
          "output_type": "stream",
          "name": "stdout",
          "text": [
            "Maksimum KNN Test Accuracy 73.33%  K = 5\n"
          ]
        }
      ]
    },
    {
      "cell_type": "code",
      "source": [
        "knn2 = KNeighborsClassifier(n_neighbors=4) \n",
        "knn2.fit(X_train, Y_train)\n",
        "y_train_pred1 = knn2.predict(X_train)\n",
        "y_test_pred1 = knn2.predict(X_test)"
      ],
      "metadata": {
        "id": "VkcXRg9JNKeH"
      },
      "id": "VkcXRg9JNKeH",
      "execution_count": null,
      "outputs": []
    },
    {
      "cell_type": "code",
      "source": [
        "print(classification_report(y_train_pred1, Y_train))"
      ],
      "metadata": {
        "colab": {
          "base_uri": "https://localhost:8080/"
        },
        "id": "bi8ashqeNSNl",
        "outputId": "4b1a5e4c-1954-48bd-96e3-5df492819084"
      },
      "id": "bi8ashqeNSNl",
      "execution_count": null,
      "outputs": [
        {
          "output_type": "stream",
          "name": "stdout",
          "text": [
            "              precision    recall  f1-score   support\n",
            "\n",
            "           0       0.94      0.69      0.80       173\n",
            "           1       0.51      0.88      0.65        64\n",
            "\n",
            "    accuracy                           0.74       237\n",
            "   macro avg       0.73      0.78      0.72       237\n",
            "weighted avg       0.82      0.74      0.76       237\n",
            "\n"
          ]
        }
      ]
    },
    {
      "cell_type": "code",
      "source": [
        "print(classification_report(y_test_pred1, Y_test))"
      ],
      "metadata": {
        "colab": {
          "base_uri": "https://localhost:8080/"
        },
        "id": "4BJmfUASNkqR",
        "outputId": "33cd6ef6-52f4-408b-992b-691a3f3324a3"
      },
      "id": "4BJmfUASNkqR",
      "execution_count": null,
      "outputs": [
        {
          "output_type": "stream",
          "name": "stdout",
          "text": [
            "              precision    recall  f1-score   support\n",
            "\n",
            "           0       0.88      0.67      0.76        42\n",
            "           1       0.50      0.78      0.61        18\n",
            "\n",
            "    accuracy                           0.70        60\n",
            "   macro avg       0.69      0.72      0.68        60\n",
            "weighted avg       0.76      0.70      0.71        60\n",
            "\n"
          ]
        }
      ]
    },
    {
      "cell_type": "code",
      "source": [
        "sns.set(style=\"ticks\")\n",
        "from sklearn.metrics import ConfusionMatrixDisplay\n",
        "ConfusionMatrixDisplay.from_estimator(knn2, X_test, Y_test)\n",
        "plt.show()"
      ],
      "metadata": {
        "colab": {
          "base_uri": "https://localhost:8080/",
          "height": 285
        },
        "id": "ZGxmH0MrNwhX",
        "outputId": "a5cbb61f-ad2b-4bed-da77-b6f8dc2d069e"
      },
      "id": "ZGxmH0MrNwhX",
      "execution_count": null,
      "outputs": [
        {
          "output_type": "display_data",
          "data": {
            "text/plain": [
              "<Figure size 432x288 with 2 Axes>"
            ],
            "image/png": "[encoded data removed]"
          },
          "metadata": {}
        }
      ]
    },
    {
      "cell_type": "markdown",
      "id": "26ac3575",
      "metadata": {
        "id": "26ac3575"
      },
      "source": [
        "SVM Algoritması"
      ]
    },
    {
      "cell_type": "code",
      "execution_count": null,
      "id": "c47e0618",
      "metadata": {
        "id": "c47e0618"
      },
      "outputs": [],
      "source": [
        "# SVM Model Oluşturma\n",
        "\n",
        "svm = SVC()\n",
        "svm.fit(X_train, Y_train)\n",
        "y_test_pred2 = svm.predict(X_test)"
      ]
    },
    {
      "cell_type": "code",
      "execution_count": null,
      "id": "54eb275a",
      "metadata": {
        "colab": {
          "base_uri": "https://localhost:8080/"
        },
        "id": "54eb275a",
        "outputId": "501dea21-b986-45c7-852f-104a158b2734"
      },
      "outputs": [
        {
          "output_type": "stream",
          "name": "stdout",
          "text": [
            "              precision    recall  f1-score   support\n",
            "\n",
            "           0       0.84      0.71      0.77        38\n",
            "           1       0.61      0.77      0.68        22\n",
            "\n",
            "    accuracy                           0.73        60\n",
            "   macro avg       0.73      0.74      0.73        60\n",
            "weighted avg       0.76      0.73      0.74        60\n",
            "\n"
          ]
        }
      ],
      "source": [
        "print(classification_report(y_test_pred2,Y_test))"
      ]
    },
    {
      "cell_type": "code",
      "execution_count": null,
      "id": "fb8f4940",
      "metadata": {
        "colab": {
          "base_uri": "https://localhost:8080/"
        },
        "id": "fb8f4940",
        "outputId": "3655afb2-c97c-457f-d179-9d0cfef9aa94"
      },
      "outputs": [
        {
          "output_type": "execute_result",
          "data": {
            "text/plain": [
              "RandomizedSearchCV(cv=5, estimator=SVC(),\n",
              "                   param_distributions={'C': [0.1, 1, 5, 10, 100],\n",
              "                                        'gamma': [1, 0.1, 0.01, 0.001, 0.005,\n",
              "                                                  0.0001, 0.0005],\n",
              "                                        'kernel': ['poly', 'rbf', 'sigmoid',\n",
              "                                                   'linear']},\n",
              "                   scoring='accuracy')"
            ]
          },
          "metadata": {},
          "execution_count": 40
        }
      ],
      "source": [
        "# SVM için hiperparametre ayarı\n",
        "param_tuned= {'C': [0.1,1,5,10,100], 'gamma': [1,0.1,0.01,0.001,0.005,0.0001, 0.0005],'kernel': ['poly','rbf', 'sigmoid','linear']}\n",
        " \n",
        "grid = RandomizedSearchCV(svm, param_tuned, scoring='accuracy', cv = 5)\n",
        " \n",
        "grid.fit(X_train, Y_train)"
      ]
    },
    {
      "cell_type": "code",
      "execution_count": null,
      "id": "5f4ebb4a",
      "metadata": {
        "colab": {
          "base_uri": "https://localhost:8080/"
        },
        "id": "5f4ebb4a",
        "outputId": "b8b94e8f-c099-4089-ad9c-9fce3cba65df"
      },
      "outputs": [
        {
          "output_type": "stream",
          "name": "stdout",
          "text": [
            "{'kernel': 'linear', 'gamma': 0.01, 'C': 0.1}\n"
          ]
        }
      ],
      "source": [
        "print(grid.best_params_)"
      ]
    },
    {
      "cell_type": "code",
      "source": [
        "svm1 = SVC(C=5, gamma= 0.01, kernel= 'linear')\n",
        "svm1.fit(X_train, Y_train)\n",
        "y_train_pred4 = svm1.predict(X_train)\n",
        "y_test_pred4 = svm1.predict(X_test)\n",
        "\n",
        "acc = svm1.score(X_test, Y_test) * 100\n",
        "accuracies[\"SVM\"] = acc"
      ],
      "metadata": {
        "id": "nnxRtx4KReE_"
      },
      "id": "nnxRtx4KReE_",
      "execution_count": null,
      "outputs": []
    },
    {
      "cell_type": "code",
      "source": [
        "print(classification_report(y_train_pred4,Y_train))"
      ],
      "metadata": {
        "colab": {
          "base_uri": "https://localhost:8080/"
        },
        "id": "v6YwhpkmRql3",
        "outputId": "525e333e-cbf0-43f8-ca02-c984a074f2ba"
      },
      "id": "v6YwhpkmRql3",
      "execution_count": null,
      "outputs": [
        {
          "output_type": "stream",
          "name": "stdout",
          "text": [
            "              precision    recall  f1-score   support\n",
            "\n",
            "           0       0.90      0.84      0.87       137\n",
            "           1       0.80      0.87      0.83       100\n",
            "\n",
            "    accuracy                           0.85       237\n",
            "   macro avg       0.85      0.85      0.85       237\n",
            "weighted avg       0.86      0.85      0.85       237\n",
            "\n"
          ]
        }
      ]
    },
    {
      "cell_type": "code",
      "source": [
        "print(classification_report(y_test_pred4,Y_test))"
      ],
      "metadata": {
        "colab": {
          "base_uri": "https://localhost:8080/"
        },
        "id": "f0ngmjRhRzIv",
        "outputId": "24602df7-cb6b-4f78-f2f3-7c97f1bd87e1"
      },
      "id": "f0ngmjRhRzIv",
      "execution_count": null,
      "outputs": [
        {
          "output_type": "stream",
          "name": "stdout",
          "text": [
            "              precision    recall  f1-score   support\n",
            "\n",
            "           0       0.91      0.88      0.89        33\n",
            "           1       0.86      0.89      0.87        27\n",
            "\n",
            "    accuracy                           0.88        60\n",
            "   macro avg       0.88      0.88      0.88        60\n",
            "weighted avg       0.88      0.88      0.88        60\n",
            "\n"
          ]
        }
      ]
    },
    {
      "cell_type": "code",
      "source": [
        "ConfusionMatrixDisplay.from_estimator(svm1, X_test, Y_test)\n",
        "plt.show()"
      ],
      "metadata": {
        "colab": {
          "base_uri": "https://localhost:8080/",
          "height": 285
        },
        "id": "1HNzmk_yR32u",
        "outputId": "ec609cff-751e-4cde-c90f-2993b163bee6"
      },
      "id": "1HNzmk_yR32u",
      "execution_count": null,
      "outputs": [
        {
          "output_type": "display_data",
          "data": {
            "text/plain": [
              "<Figure size 432x288 with 2 Axes>"
            ],
            "image/png": "[encoded data removed]"
          },
          "metadata": {}
        }
      ]
    },
    {
      "cell_type": "markdown",
      "id": "af33f22e",
      "metadata": {
        "id": "af33f22e"
      },
      "source": [
        "**Naive Bayes Algoritması**"
      ]
    },
    {
      "cell_type": "code",
      "execution_count": null,
      "id": "0719882c",
      "metadata": {
        "id": "0719882c"
      },
      "outputs": [],
      "source": [
        "nb = GaussianNB()\n",
        "nb.fit(X_train, Y_train)\n",
        "y_train_pred3 = nb.predict(X_train)\n",
        "y_test_pred3 = nb.predict(X_test)\n",
        "\n",
        "acc = nb.score(X_test, Y_test) * 100\n",
        "accuracies[\"Naive Bayes Algoritması\"] = acc"
      ]
    },
    {
      "cell_type": "code",
      "execution_count": null,
      "id": "53195c0f",
      "metadata": {
        "colab": {
          "base_uri": "https://localhost:8080/"
        },
        "id": "53195c0f",
        "outputId": "494d7f81-e93c-4e9d-9949-8dee0aca83aa"
      },
      "outputs": [
        {
          "output_type": "stream",
          "name": "stdout",
          "text": [
            "              precision    recall  f1-score   support\n",
            "\n",
            "           0       0.86      0.85      0.86       129\n",
            "           1       0.83      0.83      0.83       108\n",
            "\n",
            "    accuracy                           0.84       237\n",
            "   macro avg       0.84      0.84      0.84       237\n",
            "weighted avg       0.84      0.84      0.84       237\n",
            "\n"
          ]
        }
      ],
      "source": [
        "print(classification_report(y_train_pred3,Y_train))"
      ]
    },
    {
      "cell_type": "code",
      "source": [
        "print(classification_report(y_test_pred3,Y_test))"
      ],
      "metadata": {
        "colab": {
          "base_uri": "https://localhost:8080/"
        },
        "id": "MiVOzRasSy5K",
        "outputId": "e67eeb7a-cded-4863-baa9-4bc317552535"
      },
      "id": "MiVOzRasSy5K",
      "execution_count": null,
      "outputs": [
        {
          "output_type": "stream",
          "name": "stdout",
          "text": [
            "              precision    recall  f1-score   support\n",
            "\n",
            "           0       0.91      0.88      0.89        33\n",
            "           1       0.86      0.89      0.87        27\n",
            "\n",
            "    accuracy                           0.88        60\n",
            "   macro avg       0.88      0.88      0.88        60\n",
            "weighted avg       0.88      0.88      0.88        60\n",
            "\n"
          ]
        }
      ]
    },
    {
      "cell_type": "code",
      "source": [
        "ConfusionMatrixDisplay.from_estimator(nb, X_test, Y_test)\n",
        "plt.show()"
      ],
      "metadata": {
        "colab": {
          "base_uri": "https://localhost:8080/",
          "height": 285
        },
        "id": "Rp26sZq5S3TQ",
        "outputId": "7aa6a3f0-f8a1-462e-c9e1-87df6f786f52"
      },
      "id": "Rp26sZq5S3TQ",
      "execution_count": null,
      "outputs": [
        {
          "output_type": "display_data",
          "data": {
            "text/plain": [
              "<Figure size 432x288 with 2 Axes>"
            ],
            "image/png": "[encoded data removed]"
          },
          "metadata": {}
        }
      ]
    },
    {
      "cell_type": "markdown",
      "source": [
        "**Model Karşılaştırma**"
      ],
      "metadata": {
        "id": "ydIouaSSXW4-"
      },
      "id": "ydIouaSSXW4-"
    },
    {
      "cell_type": "code",
      "source": [
        "colors = [\"#FFB5C5\", \"#7EC0EE\", \"#71C671\", \"#FFA54F\"]\n",
        "\n",
        "sns.set_style(\"whitegrid\")\n",
        "plt.figure(dpi=120)\n",
        "plt.figure(figsize=(7, 7))\n",
        "plt.yticks(np.arange(0, 100, 10))\n",
        "plt.ylabel(\"Algoritma\",fontsize=15)\n",
        "plt.xlabel(\"Accuracy\",fontsize=15)\n",
        "g = sns.barplot(y=list(accuracies.keys()), x=list(accuracies.values()), palette=colors, orient=\"h\")\n",
        "i = 0\n",
        "for algorithm, accuracy in accuracies.items():\n",
        "    g.text(accuracy, i, \"{0:.2f}%\".format(accuracy), color=\"black\", ha=\"center\")\n",
        "    i += 1\n",
        "plt.show()\n"
      ],
      "metadata": {
        "colab": {
          "base_uri": "https://localhost:8080/",
          "height": 468
        },
        "id": "QNS_8Lm0Xa-L",
        "outputId": "3685628c-6c6c-473c-a23f-cd8b2dbad8e8"
      },
      "id": "QNS_8Lm0Xa-L",
      "execution_count": null,
      "outputs": [
        {
          "output_type": "display_data",
          "data": {
            "text/plain": [
              "<Figure size 720x480 with 0 Axes>"
            ]
          },
          "metadata": {}
        },
        {
          "output_type": "display_data",
          "data": {
            "text/plain": [
              "<Figure size 504x504 with 1 Axes>"
            ],
            "image/png": "[encoded data removed]"
          },
          "metadata": {}
        }
      ]
    },
    {
      "cell_type": "code",
      "source": [],
      "metadata": {
        "id": "Z-T6mHBGX2b4"
      },
      "id": "Z-T6mHBGX2b4",
      "execution_count": null,
      "outputs": []
    }
  ],
  "metadata": {
    "kernelspec": {
      "display_name": "Python 3 (ipykernel)",
      "language": "python",
      "name": "python3"
    },
    "language_info": {
      "codemirror_mode": {
        "name": "ipython",
        "version": 3
      },
      "file_extension": ".py",
      "mimetype": "text/x-python",
      "name": "python",
      "nbconvert_exporter": "python",
      "pygments_lexer": "ipython3",
      "version": "3.9.12"
    },
    "colab": {
      "provenance": []
    }
  },
  "nbformat": 4,
  "nbformat_minor": 5
}